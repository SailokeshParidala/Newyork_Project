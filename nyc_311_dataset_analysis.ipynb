{
  "cells": [
    {
      "cell_type": "markdown",
      "metadata": {
        "id": "view-in-github",
        "colab_type": "text"
      },
      "source": [
        "<a href=\"https://colab.research.google.com/github/SailokeshParidala/Newyork_Project/blob/main/nyc_311_dataset_analysis.ipynb\" target=\"_parent\"><img src=\"https://colab.research.google.com/assets/colab-badge.svg\" alt=\"Open In Colab\"/></a>"
      ]
    },
    {
      "cell_type": "code",
      "execution_count": null,
      "metadata": {
        "id": "UFHiL1mvLPVW"
      },
      "outputs": [],
      "source": [
        "import numpy as np\n",
        "import pandas as pd\n",
        "import matplotlib.pyplot as plt\n",
        "import seaborn as sns"
      ]
    },
    {
      "cell_type": "code",
      "source": [
        "from google.colab import drive\n",
        "drive.mount('/content/drive')"
      ],
      "metadata": {
        "colab": {
          "base_uri": "https://localhost:8080/"
        },
        "id": "ITdWt3IwLXL9",
        "outputId": "0314aa7e-b1d5-4643-99b1-1cc011cb48c1"
      },
      "execution_count": null,
      "outputs": [
        {
          "output_type": "stream",
          "name": "stdout",
          "text": [
            "Drive already mounted at /content/drive; to attempt to forcibly remount, call drive.mount(\"/content/drive\", force_remount=True).\n"
          ]
        }
      ]
    },
    {
      "cell_type": "code",
      "execution_count": null,
      "metadata": {
        "id": "jMz-6an8LPVd"
      },
      "outputs": [],
      "source": [
        "from IPython.core.interactiveshell import InteractiveShell\n",
        "InteractiveShell.ast_node_interactivity = \"all\""
      ]
    },
    {
      "cell_type": "code",
      "execution_count": null,
      "metadata": {
        "colab": {
          "base_uri": "https://localhost:8080/",
          "height": 604
        },
        "id": "aC75RBrULPVf",
        "outputId": "974bef91-85fb-4156-8473-9e5fd62813fd"
      },
      "outputs": [
        {
          "output_type": "stream",
          "name": "stderr",
          "text": [
            "/usr/local/lib/python3.8/dist-packages/IPython/core/interactiveshell.py:3326: DtypeWarning: Columns (48,49) have mixed types.Specify dtype option on import or set low_memory=False.\n",
            "  exec(code_obj, self.user_global_ns, self.user_ns)\n"
          ]
        },
        {
          "output_type": "execute_result",
          "data": {
            "text/plain": [
              "   Unique Key            Created Date             Closed Date Agency  \\\n",
              "0    32310363  12/31/2015 11:59:45 PM  01/01/2016 12:55:15 AM   NYPD   \n",
              "1    32309934  12/31/2015 11:59:44 PM  01/01/2016 01:26:57 AM   NYPD   \n",
              "2    32309159  12/31/2015 11:59:29 PM  01/01/2016 04:51:03 AM   NYPD   \n",
              "3    32305098  12/31/2015 11:57:46 PM  01/01/2016 07:43:13 AM   NYPD   \n",
              "\n",
              "                       Agency Name           Complaint Type  \\\n",
              "0  New York City Police Department  Noise - Street/Sidewalk   \n",
              "1  New York City Police Department         Blocked Driveway   \n",
              "2  New York City Police Department         Blocked Driveway   \n",
              "3  New York City Police Department          Illegal Parking   \n",
              "\n",
              "                     Descriptor    Location Type  Incident Zip  \\\n",
              "0              Loud Music/Party  Street/Sidewalk       10034.0   \n",
              "1                     No Access  Street/Sidewalk       11105.0   \n",
              "2                     No Access  Street/Sidewalk       10458.0   \n",
              "3  Commercial Overnight Parking  Street/Sidewalk       10461.0   \n",
              "\n",
              "        Incident Address       Street Name   Cross Street 1   Cross Street 2  \\\n",
              "0    71 VERMILYEA AVENUE  VERMILYEA AVENUE   ACADEMY STREET  WEST 204 STREET   \n",
              "1        27-07 23 AVENUE         23 AVENUE        27 STREET        28 STREET   \n",
              "2  2897 VALENTINE AVENUE  VALENTINE AVENUE  EAST 198 STREET  EAST 199 STREET   \n",
              "3    2940 BAISLEY AVENUE    BAISLEY AVENUE    EDISON AVENUE         B STREET   \n",
              "\n",
              "  Intersection Street 1 Intersection Street 2 Address Type      City Landmark  \\\n",
              "0                   NaN                   NaN      ADDRESS  NEW YORK      NaN   \n",
              "1                   NaN                   NaN      ADDRESS   ASTORIA      NaN   \n",
              "2                   NaN                   NaN      ADDRESS     BRONX      NaN   \n",
              "3                   NaN                   NaN      ADDRESS     BRONX      NaN   \n",
              "\n",
              "  Facility Type  Status                Due Date  \\\n",
              "0      Precinct  Closed  01/01/2016 07:59:45 AM   \n",
              "1      Precinct  Closed  01/01/2016 07:59:44 AM   \n",
              "2      Precinct  Closed  01/01/2016 07:59:29 AM   \n",
              "3      Precinct  Closed  01/01/2016 07:57:46 AM   \n",
              "\n",
              "                              Resolution Description  \\\n",
              "0  The Police Department responded and upon arriv...   \n",
              "1  The Police Department responded to the complai...   \n",
              "2  The Police Department responded and upon arriv...   \n",
              "3  The Police Department responded to the complai...   \n",
              "\n",
              "  Resolution Action Updated Date Community Board    Borough  \\\n",
              "0         01/01/2016 12:55:15 AM    12 MANHATTAN  MANHATTAN   \n",
              "1         01/01/2016 01:26:57 AM       01 QUEENS     QUEENS   \n",
              "2         01/01/2016 04:51:03 AM        07 BRONX      BRONX   \n",
              "3         01/01/2016 07:43:13 AM        10 BRONX      BRONX   \n",
              "\n",
              "   X Coordinate (State Plane)  Y Coordinate (State Plane) Park Facility Name  \\\n",
              "0                   1005409.0                    254678.0        Unspecified   \n",
              "1                   1007766.0                    221986.0        Unspecified   \n",
              "2                   1015081.0                    256380.0        Unspecified   \n",
              "3                   1031740.0                    243899.0        Unspecified   \n",
              "\n",
              "  Park Borough  School Name School Number School Region  School Code  \\\n",
              "0    MANHATTAN  Unspecified   Unspecified   Unspecified  Unspecified   \n",
              "1       QUEENS  Unspecified   Unspecified   Unspecified  Unspecified   \n",
              "2        BRONX  Unspecified   Unspecified   Unspecified  Unspecified   \n",
              "3        BRONX  Unspecified   Unspecified   Unspecified  Unspecified   \n",
              "\n",
              "  School Phone Number School Address  School City School State   School Zip  \\\n",
              "0         Unspecified    Unspecified  Unspecified  Unspecified  Unspecified   \n",
              "1         Unspecified    Unspecified  Unspecified  Unspecified  Unspecified   \n",
              "2         Unspecified    Unspecified  Unspecified  Unspecified  Unspecified   \n",
              "3         Unspecified    Unspecified  Unspecified  Unspecified  Unspecified   \n",
              "\n",
              "  School Not Found  School or Citywide Complaint  Vehicle Type  \\\n",
              "0                N                           NaN           NaN   \n",
              "1                N                           NaN           NaN   \n",
              "2                N                           NaN           NaN   \n",
              "3                N                           NaN           NaN   \n",
              "\n",
              "   Taxi Company Borough  Taxi Pick Up Location Bridge Highway Name  \\\n",
              "0                   NaN                    NaN                 NaN   \n",
              "1                   NaN                    NaN                 NaN   \n",
              "2                   NaN                    NaN                 NaN   \n",
              "3                   NaN                    NaN                 NaN   \n",
              "\n",
              "  Bridge Highway Direction Road Ramp Bridge Highway Segment  Garage Lot Name  \\\n",
              "0                      NaN       NaN                    NaN              NaN   \n",
              "1                      NaN       NaN                    NaN              NaN   \n",
              "2                      NaN       NaN                    NaN              NaN   \n",
              "3                      NaN       NaN                    NaN              NaN   \n",
              "\n",
              "  Ferry Direction Ferry Terminal Name   Latitude  Longitude  \\\n",
              "0             NaN                 NaN  40.865682 -73.923501   \n",
              "1             NaN                 NaN  40.775945 -73.915094   \n",
              "2             NaN                 NaN  40.870325 -73.888525   \n",
              "3             NaN                 NaN  40.835994 -73.828379   \n",
              "\n",
              "                                   Location  \n",
              "0   (40.86568153633767, -73.92350095571744)  \n",
              "1  (40.775945312321085, -73.91509393898605)  \n",
              "2  (40.870324522111424, -73.88852464418646)  \n",
              "3   (40.83599404683083, -73.82837939584206)  "
            ],
            "text/html": [
              "\n",
              "  <div id=\"df-7d425c9e-b2e9-4cdf-aa7a-3b168d64e47e\">\n",
              "    <div class=\"colab-df-container\">\n",
              "      <div>\n",
              "<style scoped>\n",
              "    .dataframe tbody tr th:only-of-type {\n",
              "        vertical-align: middle;\n",
              "    }\n",
              "\n",
              "    .dataframe tbody tr th {\n",
              "        vertical-align: top;\n",
              "    }\n",
              "\n",
              "    .dataframe thead th {\n",
              "        text-align: right;\n",
              "    }\n",
              "</style>\n",
              "<table border=\"1\" class=\"dataframe\">\n",
              "  <thead>\n",
              "    <tr style=\"text-align: right;\">\n",
              "      <th></th>\n",
              "      <th>Unique Key</th>\n",
              "      <th>Created Date</th>\n",
              "      <th>Closed Date</th>\n",
              "      <th>Agency</th>\n",
              "      <th>Agency Name</th>\n",
              "      <th>Complaint Type</th>\n",
              "      <th>Descriptor</th>\n",
              "      <th>Location Type</th>\n",
              "      <th>Incident Zip</th>\n",
              "      <th>Incident Address</th>\n",
              "      <th>Street Name</th>\n",
              "      <th>Cross Street 1</th>\n",
              "      <th>Cross Street 2</th>\n",
              "      <th>Intersection Street 1</th>\n",
              "      <th>Intersection Street 2</th>\n",
              "      <th>Address Type</th>\n",
              "      <th>City</th>\n",
              "      <th>Landmark</th>\n",
              "      <th>Facility Type</th>\n",
              "      <th>Status</th>\n",
              "      <th>Due Date</th>\n",
              "      <th>Resolution Description</th>\n",
              "      <th>Resolution Action Updated Date</th>\n",
              "      <th>Community Board</th>\n",
              "      <th>Borough</th>\n",
              "      <th>X Coordinate (State Plane)</th>\n",
              "      <th>Y Coordinate (State Plane)</th>\n",
              "      <th>Park Facility Name</th>\n",
              "      <th>Park Borough</th>\n",
              "      <th>School Name</th>\n",
              "      <th>School Number</th>\n",
              "      <th>School Region</th>\n",
              "      <th>School Code</th>\n",
              "      <th>School Phone Number</th>\n",
              "      <th>School Address</th>\n",
              "      <th>School City</th>\n",
              "      <th>School State</th>\n",
              "      <th>School Zip</th>\n",
              "      <th>School Not Found</th>\n",
              "      <th>School or Citywide Complaint</th>\n",
              "      <th>Vehicle Type</th>\n",
              "      <th>Taxi Company Borough</th>\n",
              "      <th>Taxi Pick Up Location</th>\n",
              "      <th>Bridge Highway Name</th>\n",
              "      <th>Bridge Highway Direction</th>\n",
              "      <th>Road Ramp</th>\n",
              "      <th>Bridge Highway Segment</th>\n",
              "      <th>Garage Lot Name</th>\n",
              "      <th>Ferry Direction</th>\n",
              "      <th>Ferry Terminal Name</th>\n",
              "      <th>Latitude</th>\n",
              "      <th>Longitude</th>\n",
              "      <th>Location</th>\n",
              "    </tr>\n",
              "  </thead>\n",
              "  <tbody>\n",
              "    <tr>\n",
              "      <th>0</th>\n",
              "      <td>32310363</td>\n",
              "      <td>12/31/2015 11:59:45 PM</td>\n",
              "      <td>01/01/2016 12:55:15 AM</td>\n",
              "      <td>NYPD</td>\n",
              "      <td>New York City Police Department</td>\n",
              "      <td>Noise - Street/Sidewalk</td>\n",
              "      <td>Loud Music/Party</td>\n",
              "      <td>Street/Sidewalk</td>\n",
              "      <td>10034.0</td>\n",
              "      <td>71 VERMILYEA AVENUE</td>\n",
              "      <td>VERMILYEA AVENUE</td>\n",
              "      <td>ACADEMY STREET</td>\n",
              "      <td>WEST 204 STREET</td>\n",
              "      <td>NaN</td>\n",
              "      <td>NaN</td>\n",
              "      <td>ADDRESS</td>\n",
              "      <td>NEW YORK</td>\n",
              "      <td>NaN</td>\n",
              "      <td>Precinct</td>\n",
              "      <td>Closed</td>\n",
              "      <td>01/01/2016 07:59:45 AM</td>\n",
              "      <td>The Police Department responded and upon arriv...</td>\n",
              "      <td>01/01/2016 12:55:15 AM</td>\n",
              "      <td>12 MANHATTAN</td>\n",
              "      <td>MANHATTAN</td>\n",
              "      <td>1005409.0</td>\n",
              "      <td>254678.0</td>\n",
              "      <td>Unspecified</td>\n",
              "      <td>MANHATTAN</td>\n",
              "      <td>Unspecified</td>\n",
              "      <td>Unspecified</td>\n",
              "      <td>Unspecified</td>\n",
              "      <td>Unspecified</td>\n",
              "      <td>Unspecified</td>\n",
              "      <td>Unspecified</td>\n",
              "      <td>Unspecified</td>\n",
              "      <td>Unspecified</td>\n",
              "      <td>Unspecified</td>\n",
              "      <td>N</td>\n",
              "      <td>NaN</td>\n",
              "      <td>NaN</td>\n",
              "      <td>NaN</td>\n",
              "      <td>NaN</td>\n",
              "      <td>NaN</td>\n",
              "      <td>NaN</td>\n",
              "      <td>NaN</td>\n",
              "      <td>NaN</td>\n",
              "      <td>NaN</td>\n",
              "      <td>NaN</td>\n",
              "      <td>NaN</td>\n",
              "      <td>40.865682</td>\n",
              "      <td>-73.923501</td>\n",
              "      <td>(40.86568153633767, -73.92350095571744)</td>\n",
              "    </tr>\n",
              "    <tr>\n",
              "      <th>1</th>\n",
              "      <td>32309934</td>\n",
              "      <td>12/31/2015 11:59:44 PM</td>\n",
              "      <td>01/01/2016 01:26:57 AM</td>\n",
              "      <td>NYPD</td>\n",
              "      <td>New York City Police Department</td>\n",
              "      <td>Blocked Driveway</td>\n",
              "      <td>No Access</td>\n",
              "      <td>Street/Sidewalk</td>\n",
              "      <td>11105.0</td>\n",
              "      <td>27-07 23 AVENUE</td>\n",
              "      <td>23 AVENUE</td>\n",
              "      <td>27 STREET</td>\n",
              "      <td>28 STREET</td>\n",
              "      <td>NaN</td>\n",
              "      <td>NaN</td>\n",
              "      <td>ADDRESS</td>\n",
              "      <td>ASTORIA</td>\n",
              "      <td>NaN</td>\n",
              "      <td>Precinct</td>\n",
              "      <td>Closed</td>\n",
              "      <td>01/01/2016 07:59:44 AM</td>\n",
              "      <td>The Police Department responded to the complai...</td>\n",
              "      <td>01/01/2016 01:26:57 AM</td>\n",
              "      <td>01 QUEENS</td>\n",
              "      <td>QUEENS</td>\n",
              "      <td>1007766.0</td>\n",
              "      <td>221986.0</td>\n",
              "      <td>Unspecified</td>\n",
              "      <td>QUEENS</td>\n",
              "      <td>Unspecified</td>\n",
              "      <td>Unspecified</td>\n",
              "      <td>Unspecified</td>\n",
              "      <td>Unspecified</td>\n",
              "      <td>Unspecified</td>\n",
              "      <td>Unspecified</td>\n",
              "      <td>Unspecified</td>\n",
              "      <td>Unspecified</td>\n",
              "      <td>Unspecified</td>\n",
              "      <td>N</td>\n",
              "      <td>NaN</td>\n",
              "      <td>NaN</td>\n",
              "      <td>NaN</td>\n",
              "      <td>NaN</td>\n",
              "      <td>NaN</td>\n",
              "      <td>NaN</td>\n",
              "      <td>NaN</td>\n",
              "      <td>NaN</td>\n",
              "      <td>NaN</td>\n",
              "      <td>NaN</td>\n",
              "      <td>NaN</td>\n",
              "      <td>40.775945</td>\n",
              "      <td>-73.915094</td>\n",
              "      <td>(40.775945312321085, -73.91509393898605)</td>\n",
              "    </tr>\n",
              "    <tr>\n",
              "      <th>2</th>\n",
              "      <td>32309159</td>\n",
              "      <td>12/31/2015 11:59:29 PM</td>\n",
              "      <td>01/01/2016 04:51:03 AM</td>\n",
              "      <td>NYPD</td>\n",
              "      <td>New York City Police Department</td>\n",
              "      <td>Blocked Driveway</td>\n",
              "      <td>No Access</td>\n",
              "      <td>Street/Sidewalk</td>\n",
              "      <td>10458.0</td>\n",
              "      <td>2897 VALENTINE AVENUE</td>\n",
              "      <td>VALENTINE AVENUE</td>\n",
              "      <td>EAST 198 STREET</td>\n",
              "      <td>EAST 199 STREET</td>\n",
              "      <td>NaN</td>\n",
              "      <td>NaN</td>\n",
              "      <td>ADDRESS</td>\n",
              "      <td>BRONX</td>\n",
              "      <td>NaN</td>\n",
              "      <td>Precinct</td>\n",
              "      <td>Closed</td>\n",
              "      <td>01/01/2016 07:59:29 AM</td>\n",
              "      <td>The Police Department responded and upon arriv...</td>\n",
              "      <td>01/01/2016 04:51:03 AM</td>\n",
              "      <td>07 BRONX</td>\n",
              "      <td>BRONX</td>\n",
              "      <td>1015081.0</td>\n",
              "      <td>256380.0</td>\n",
              "      <td>Unspecified</td>\n",
              "      <td>BRONX</td>\n",
              "      <td>Unspecified</td>\n",
              "      <td>Unspecified</td>\n",
              "      <td>Unspecified</td>\n",
              "      <td>Unspecified</td>\n",
              "      <td>Unspecified</td>\n",
              "      <td>Unspecified</td>\n",
              "      <td>Unspecified</td>\n",
              "      <td>Unspecified</td>\n",
              "      <td>Unspecified</td>\n",
              "      <td>N</td>\n",
              "      <td>NaN</td>\n",
              "      <td>NaN</td>\n",
              "      <td>NaN</td>\n",
              "      <td>NaN</td>\n",
              "      <td>NaN</td>\n",
              "      <td>NaN</td>\n",
              "      <td>NaN</td>\n",
              "      <td>NaN</td>\n",
              "      <td>NaN</td>\n",
              "      <td>NaN</td>\n",
              "      <td>NaN</td>\n",
              "      <td>40.870325</td>\n",
              "      <td>-73.888525</td>\n",
              "      <td>(40.870324522111424, -73.88852464418646)</td>\n",
              "    </tr>\n",
              "    <tr>\n",
              "      <th>3</th>\n",
              "      <td>32305098</td>\n",
              "      <td>12/31/2015 11:57:46 PM</td>\n",
              "      <td>01/01/2016 07:43:13 AM</td>\n",
              "      <td>NYPD</td>\n",
              "      <td>New York City Police Department</td>\n",
              "      <td>Illegal Parking</td>\n",
              "      <td>Commercial Overnight Parking</td>\n",
              "      <td>Street/Sidewalk</td>\n",
              "      <td>10461.0</td>\n",
              "      <td>2940 BAISLEY AVENUE</td>\n",
              "      <td>BAISLEY AVENUE</td>\n",
              "      <td>EDISON AVENUE</td>\n",
              "      <td>B STREET</td>\n",
              "      <td>NaN</td>\n",
              "      <td>NaN</td>\n",
              "      <td>ADDRESS</td>\n",
              "      <td>BRONX</td>\n",
              "      <td>NaN</td>\n",
              "      <td>Precinct</td>\n",
              "      <td>Closed</td>\n",
              "      <td>01/01/2016 07:57:46 AM</td>\n",
              "      <td>The Police Department responded to the complai...</td>\n",
              "      <td>01/01/2016 07:43:13 AM</td>\n",
              "      <td>10 BRONX</td>\n",
              "      <td>BRONX</td>\n",
              "      <td>1031740.0</td>\n",
              "      <td>243899.0</td>\n",
              "      <td>Unspecified</td>\n",
              "      <td>BRONX</td>\n",
              "      <td>Unspecified</td>\n",
              "      <td>Unspecified</td>\n",
              "      <td>Unspecified</td>\n",
              "      <td>Unspecified</td>\n",
              "      <td>Unspecified</td>\n",
              "      <td>Unspecified</td>\n",
              "      <td>Unspecified</td>\n",
              "      <td>Unspecified</td>\n",
              "      <td>Unspecified</td>\n",
              "      <td>N</td>\n",
              "      <td>NaN</td>\n",
              "      <td>NaN</td>\n",
              "      <td>NaN</td>\n",
              "      <td>NaN</td>\n",
              "      <td>NaN</td>\n",
              "      <td>NaN</td>\n",
              "      <td>NaN</td>\n",
              "      <td>NaN</td>\n",
              "      <td>NaN</td>\n",
              "      <td>NaN</td>\n",
              "      <td>NaN</td>\n",
              "      <td>40.835994</td>\n",
              "      <td>-73.828379</td>\n",
              "      <td>(40.83599404683083, -73.82837939584206)</td>\n",
              "    </tr>\n",
              "  </tbody>\n",
              "</table>\n",
              "</div>\n",
              "      <button class=\"colab-df-convert\" onclick=\"convertToInteractive('df-7d425c9e-b2e9-4cdf-aa7a-3b168d64e47e')\"\n",
              "              title=\"Convert this dataframe to an interactive table.\"\n",
              "              style=\"display:none;\">\n",
              "        \n",
              "  <svg xmlns=\"http://www.w3.org/2000/svg\" height=\"24px\"viewBox=\"0 0 24 24\"\n",
              "       width=\"24px\">\n",
              "    <path d=\"M0 0h24v24H0V0z\" fill=\"none\"/>\n",
              "    <path d=\"M18.56 5.44l.94 2.06.94-2.06 2.06-.94-2.06-.94-.94-2.06-.94 2.06-2.06.94zm-11 1L8.5 8.5l.94-2.06 2.06-.94-2.06-.94L8.5 2.5l-.94 2.06-2.06.94zm10 10l.94 2.06.94-2.06 2.06-.94-2.06-.94-.94-2.06-.94 2.06-2.06.94z\"/><path d=\"M17.41 7.96l-1.37-1.37c-.4-.4-.92-.59-1.43-.59-.52 0-1.04.2-1.43.59L10.3 9.45l-7.72 7.72c-.78.78-.78 2.05 0 2.83L4 21.41c.39.39.9.59 1.41.59.51 0 1.02-.2 1.41-.59l7.78-7.78 2.81-2.81c.8-.78.8-2.07 0-2.86zM5.41 20L4 18.59l7.72-7.72 1.47 1.35L5.41 20z\"/>\n",
              "  </svg>\n",
              "      </button>\n",
              "      \n",
              "  <style>\n",
              "    .colab-df-container {\n",
              "      display:flex;\n",
              "      flex-wrap:wrap;\n",
              "      gap: 12px;\n",
              "    }\n",
              "\n",
              "    .colab-df-convert {\n",
              "      background-color: #E8F0FE;\n",
              "      border: none;\n",
              "      border-radius: 50%;\n",
              "      cursor: pointer;\n",
              "      display: none;\n",
              "      fill: #1967D2;\n",
              "      height: 32px;\n",
              "      padding: 0 0 0 0;\n",
              "      width: 32px;\n",
              "    }\n",
              "\n",
              "    .colab-df-convert:hover {\n",
              "      background-color: #E2EBFA;\n",
              "      box-shadow: 0px 1px 2px rgba(60, 64, 67, 0.3), 0px 1px 3px 1px rgba(60, 64, 67, 0.15);\n",
              "      fill: #174EA6;\n",
              "    }\n",
              "\n",
              "    [theme=dark] .colab-df-convert {\n",
              "      background-color: #3B4455;\n",
              "      fill: #D2E3FC;\n",
              "    }\n",
              "\n",
              "    [theme=dark] .colab-df-convert:hover {\n",
              "      background-color: #434B5C;\n",
              "      box-shadow: 0px 1px 3px 1px rgba(0, 0, 0, 0.15);\n",
              "      filter: drop-shadow(0px 1px 2px rgba(0, 0, 0, 0.3));\n",
              "      fill: #FFFFFF;\n",
              "    }\n",
              "  </style>\n",
              "\n",
              "      <script>\n",
              "        const buttonEl =\n",
              "          document.querySelector('#df-7d425c9e-b2e9-4cdf-aa7a-3b168d64e47e button.colab-df-convert');\n",
              "        buttonEl.style.display =\n",
              "          google.colab.kernel.accessAllowed ? 'block' : 'none';\n",
              "\n",
              "        async function convertToInteractive(key) {\n",
              "          const element = document.querySelector('#df-7d425c9e-b2e9-4cdf-aa7a-3b168d64e47e');\n",
              "          const dataTable =\n",
              "            await google.colab.kernel.invokeFunction('convertToInteractive',\n",
              "                                                     [key], {});\n",
              "          if (!dataTable) return;\n",
              "\n",
              "          const docLinkHtml = 'Like what you see? Visit the ' +\n",
              "            '<a target=\"_blank\" href=https://colab.research.google.com/notebooks/data_table.ipynb>data table notebook</a>'\n",
              "            + ' to learn more about interactive tables.';\n",
              "          element.innerHTML = '';\n",
              "          dataTable['output_type'] = 'display_data';\n",
              "          await google.colab.output.renderOutput(dataTable, element);\n",
              "          const docLink = document.createElement('div');\n",
              "          docLink.innerHTML = docLinkHtml;\n",
              "          element.appendChild(docLink);\n",
              "        }\n",
              "      </script>\n",
              "    </div>\n",
              "  </div>\n",
              "  "
            ]
          },
          "metadata": {},
          "execution_count": 7
        }
      ],
      "source": [
        "#importing the dataset\n",
        "dataset=pd.read_csv(\"/311_Service_Requests_from_2010_to_Present.csv.zip\")\n",
        "pd.options.display.max_columns = None\n",
        "dataset.head(4)"
      ]
    },
    {
      "cell_type": "code",
      "execution_count": null,
      "metadata": {
        "id": "OxCTELabLPVh",
        "outputId": "20c2965d-9f66-4e6e-c0f9-ef038469c618"
      },
      "outputs": [
        {
          "name": "stdout",
          "output_type": "stream",
          "text": [
            "<class 'pandas.core.frame.DataFrame'>\n",
            "RangeIndex: 364558 entries, 0 to 364557\n",
            "Data columns (total 53 columns):\n",
            "Unique Key                        364558 non-null int64\n",
            "Created Date                      364558 non-null object\n",
            "Closed Date                       362177 non-null object\n",
            "Agency                            364558 non-null object\n",
            "Agency Name                       364558 non-null object\n",
            "Complaint Type                    364558 non-null object\n",
            "Descriptor                        358057 non-null object\n",
            "Location Type                     364425 non-null object\n",
            "Incident Zip                      361560 non-null float64\n",
            "Incident Address                  312859 non-null object\n",
            "Street Name                       312859 non-null object\n",
            "Cross Street 1                    307370 non-null object\n",
            "Cross Street 2                    306753 non-null object\n",
            "Intersection Street 1             51120 non-null object\n",
            "Intersection Street 2             50512 non-null object\n",
            "Address Type                      361306 non-null object\n",
            "City                              361561 non-null object\n",
            "Landmark                          375 non-null object\n",
            "Facility Type                     362169 non-null object\n",
            "Status                            364558 non-null object\n",
            "Due Date                          364555 non-null object\n",
            "Resolution Description            364558 non-null object\n",
            "Resolution Action Updated Date    362156 non-null object\n",
            "Community Board                   364558 non-null object\n",
            "Borough                           364558 non-null object\n",
            "X Coordinate (State Plane)        360528 non-null float64\n",
            "Y Coordinate (State Plane)        360528 non-null float64\n",
            "Park Facility Name                364558 non-null object\n",
            "Park Borough                      364558 non-null object\n",
            "School Name                       364558 non-null object\n",
            "School Number                     364558 non-null object\n",
            "School Region                     364557 non-null object\n",
            "School Code                       364557 non-null object\n",
            "School Phone Number               364558 non-null object\n",
            "School Address                    364558 non-null object\n",
            "School City                       364558 non-null object\n",
            "School State                      364558 non-null object\n",
            "School Zip                        364557 non-null object\n",
            "School Not Found                  364558 non-null object\n",
            "School or Citywide Complaint      0 non-null float64\n",
            "Vehicle Type                      0 non-null float64\n",
            "Taxi Company Borough              0 non-null float64\n",
            "Taxi Pick Up Location             0 non-null float64\n",
            "Bridge Highway Name               297 non-null object\n",
            "Bridge Highway Direction          297 non-null object\n",
            "Road Ramp                         262 non-null object\n",
            "Bridge Highway Segment            262 non-null object\n",
            "Garage Lot Name                   0 non-null float64\n",
            "Ferry Direction                   1 non-null object\n",
            "Ferry Terminal Name               2 non-null object\n",
            "Latitude                          360528 non-null float64\n",
            "Longitude                         360528 non-null float64\n",
            "Location                          360528 non-null object\n",
            "dtypes: float64(10), int64(1), object(42)\n",
            "memory usage: 147.4+ MB\n"
          ]
        }
      ],
      "source": [
        "dataset.info()"
      ]
    },
    {
      "cell_type": "code",
      "execution_count": null,
      "metadata": {
        "id": "fDahOfqpLPVj",
        "outputId": "90ace70b-9bb9-46bc-fa62-14a32e3bf6ee"
      },
      "outputs": [
        {
          "data": {
            "text/plain": [
              "Unique Key                          int64\n",
              "Created Date                       object\n",
              "Closed Date                        object\n",
              "Agency                             object\n",
              "Agency Name                        object\n",
              "Complaint Type                     object\n",
              "Descriptor                         object\n",
              "Location Type                      object\n",
              "Incident Zip                      float64\n",
              "Incident Address                   object\n",
              "Street Name                        object\n",
              "Cross Street 1                     object\n",
              "Cross Street 2                     object\n",
              "Intersection Street 1              object\n",
              "Intersection Street 2              object\n",
              "Address Type                       object\n",
              "City                               object\n",
              "Landmark                           object\n",
              "Facility Type                      object\n",
              "Status                             object\n",
              "Due Date                           object\n",
              "Resolution Description             object\n",
              "Resolution Action Updated Date     object\n",
              "Community Board                    object\n",
              "Borough                            object\n",
              "X Coordinate (State Plane)        float64\n",
              "Y Coordinate (State Plane)        float64\n",
              "Park Facility Name                 object\n",
              "Park Borough                       object\n",
              "School Name                        object\n",
              "School Number                      object\n",
              "School Region                      object\n",
              "School Code                        object\n",
              "School Phone Number                object\n",
              "School Address                     object\n",
              "School City                        object\n",
              "School State                       object\n",
              "School Zip                         object\n",
              "School Not Found                   object\n",
              "School or Citywide Complaint      float64\n",
              "Vehicle Type                      float64\n",
              "Taxi Company Borough              float64\n",
              "Taxi Pick Up Location             float64\n",
              "Bridge Highway Name                object\n",
              "Bridge Highway Direction           object\n",
              "Road Ramp                          object\n",
              "Bridge Highway Segment             object\n",
              "Garage Lot Name                   float64\n",
              "Ferry Direction                    object\n",
              "Ferry Terminal Name                object\n",
              "Latitude                          float64\n",
              "Longitude                         float64\n",
              "Location                           object\n",
              "dtype: object"
            ]
          },
          "execution_count": 5,
          "metadata": {},
          "output_type": "execute_result"
        }
      ],
      "source": [
        "dataset.dtypes"
      ]
    },
    {
      "cell_type": "code",
      "execution_count": null,
      "metadata": {
        "id": "Va2CHKLeLPVj"
      },
      "outputs": [],
      "source": [
        "dataset['Created Date']=pd.to_datetime(dataset['Created Date'])\n",
        "dataset['Closed Date']=pd.to_datetime(dataset['Closed Date'])"
      ]
    },
    {
      "cell_type": "code",
      "execution_count": null,
      "metadata": {
        "id": "9mBhFqPoLPVl",
        "outputId": "8b81e5a9-9910-404c-9a54-fd7e26659368"
      },
      "outputs": [
        {
          "data": {
            "text/html": [
              "<div>\n",
              "<style scoped>\n",
              "    .dataframe tbody tr th:only-of-type {\n",
              "        vertical-align: middle;\n",
              "    }\n",
              "\n",
              "    .dataframe tbody tr th {\n",
              "        vertical-align: top;\n",
              "    }\n",
              "\n",
              "    .dataframe thead th {\n",
              "        text-align: right;\n",
              "    }\n",
              "</style>\n",
              "<table border=\"1\" class=\"dataframe\">\n",
              "  <thead>\n",
              "    <tr style=\"text-align: right;\">\n",
              "      <th></th>\n",
              "      <th>Unique Key</th>\n",
              "      <th>Created Date</th>\n",
              "      <th>Closed Date</th>\n",
              "      <th>Agency</th>\n",
              "      <th>Agency Name</th>\n",
              "      <th>Complaint Type</th>\n",
              "      <th>Descriptor</th>\n",
              "      <th>Location Type</th>\n",
              "      <th>Incident Zip</th>\n",
              "      <th>Incident Address</th>\n",
              "      <th>Street Name</th>\n",
              "      <th>Cross Street 1</th>\n",
              "      <th>Cross Street 2</th>\n",
              "      <th>Intersection Street 1</th>\n",
              "      <th>Intersection Street 2</th>\n",
              "      <th>Address Type</th>\n",
              "      <th>City</th>\n",
              "      <th>Landmark</th>\n",
              "      <th>Facility Type</th>\n",
              "      <th>Status</th>\n",
              "      <th>Due Date</th>\n",
              "      <th>Resolution Description</th>\n",
              "      <th>Resolution Action Updated Date</th>\n",
              "      <th>Community Board</th>\n",
              "      <th>Borough</th>\n",
              "      <th>X Coordinate (State Plane)</th>\n",
              "      <th>Y Coordinate (State Plane)</th>\n",
              "      <th>Park Facility Name</th>\n",
              "      <th>Park Borough</th>\n",
              "      <th>School Name</th>\n",
              "      <th>School Number</th>\n",
              "      <th>School Region</th>\n",
              "      <th>School Code</th>\n",
              "      <th>School Phone Number</th>\n",
              "      <th>School Address</th>\n",
              "      <th>School City</th>\n",
              "      <th>School State</th>\n",
              "      <th>School Zip</th>\n",
              "      <th>School Not Found</th>\n",
              "      <th>School or Citywide Complaint</th>\n",
              "      <th>Vehicle Type</th>\n",
              "      <th>Taxi Company Borough</th>\n",
              "      <th>Taxi Pick Up Location</th>\n",
              "      <th>Bridge Highway Name</th>\n",
              "      <th>Bridge Highway Direction</th>\n",
              "      <th>Road Ramp</th>\n",
              "      <th>Bridge Highway Segment</th>\n",
              "      <th>Garage Lot Name</th>\n",
              "      <th>Ferry Direction</th>\n",
              "      <th>Ferry Terminal Name</th>\n",
              "      <th>Latitude</th>\n",
              "      <th>Longitude</th>\n",
              "      <th>Location</th>\n",
              "    </tr>\n",
              "  </thead>\n",
              "  <tbody>\n",
              "    <tr>\n",
              "      <th>0</th>\n",
              "      <td>32310363</td>\n",
              "      <td>2015-12-31 23:59:45</td>\n",
              "      <td>2016-01-01 00:55:15</td>\n",
              "      <td>NYPD</td>\n",
              "      <td>New York City Police Department</td>\n",
              "      <td>Noise - Street/Sidewalk</td>\n",
              "      <td>Loud Music/Party</td>\n",
              "      <td>Street/Sidewalk</td>\n",
              "      <td>10034.0</td>\n",
              "      <td>71 VERMILYEA AVENUE</td>\n",
              "      <td>VERMILYEA AVENUE</td>\n",
              "      <td>ACADEMY STREET</td>\n",
              "      <td>WEST 204 STREET</td>\n",
              "      <td>NaN</td>\n",
              "      <td>NaN</td>\n",
              "      <td>ADDRESS</td>\n",
              "      <td>NEW YORK</td>\n",
              "      <td>NaN</td>\n",
              "      <td>Precinct</td>\n",
              "      <td>Closed</td>\n",
              "      <td>01/01/2016 07:59:45 AM</td>\n",
              "      <td>The Police Department responded and upon arriv...</td>\n",
              "      <td>01/01/2016 12:55:15 AM</td>\n",
              "      <td>12 MANHATTAN</td>\n",
              "      <td>MANHATTAN</td>\n",
              "      <td>1005409.0</td>\n",
              "      <td>254678.0</td>\n",
              "      <td>Unspecified</td>\n",
              "      <td>MANHATTAN</td>\n",
              "      <td>Unspecified</td>\n",
              "      <td>Unspecified</td>\n",
              "      <td>Unspecified</td>\n",
              "      <td>Unspecified</td>\n",
              "      <td>Unspecified</td>\n",
              "      <td>Unspecified</td>\n",
              "      <td>Unspecified</td>\n",
              "      <td>Unspecified</td>\n",
              "      <td>Unspecified</td>\n",
              "      <td>N</td>\n",
              "      <td>NaN</td>\n",
              "      <td>NaN</td>\n",
              "      <td>NaN</td>\n",
              "      <td>NaN</td>\n",
              "      <td>NaN</td>\n",
              "      <td>NaN</td>\n",
              "      <td>NaN</td>\n",
              "      <td>NaN</td>\n",
              "      <td>NaN</td>\n",
              "      <td>NaN</td>\n",
              "      <td>NaN</td>\n",
              "      <td>40.865682</td>\n",
              "      <td>-73.923501</td>\n",
              "      <td>(40.86568153633767, -73.92350095571744)</td>\n",
              "    </tr>\n",
              "    <tr>\n",
              "      <th>1</th>\n",
              "      <td>32309934</td>\n",
              "      <td>2015-12-31 23:59:44</td>\n",
              "      <td>2016-01-01 01:26:57</td>\n",
              "      <td>NYPD</td>\n",
              "      <td>New York City Police Department</td>\n",
              "      <td>Blocked Driveway</td>\n",
              "      <td>No Access</td>\n",
              "      <td>Street/Sidewalk</td>\n",
              "      <td>11105.0</td>\n",
              "      <td>27-07 23 AVENUE</td>\n",
              "      <td>23 AVENUE</td>\n",
              "      <td>27 STREET</td>\n",
              "      <td>28 STREET</td>\n",
              "      <td>NaN</td>\n",
              "      <td>NaN</td>\n",
              "      <td>ADDRESS</td>\n",
              "      <td>ASTORIA</td>\n",
              "      <td>NaN</td>\n",
              "      <td>Precinct</td>\n",
              "      <td>Closed</td>\n",
              "      <td>01/01/2016 07:59:44 AM</td>\n",
              "      <td>The Police Department responded to the complai...</td>\n",
              "      <td>01/01/2016 01:26:57 AM</td>\n",
              "      <td>01 QUEENS</td>\n",
              "      <td>QUEENS</td>\n",
              "      <td>1007766.0</td>\n",
              "      <td>221986.0</td>\n",
              "      <td>Unspecified</td>\n",
              "      <td>QUEENS</td>\n",
              "      <td>Unspecified</td>\n",
              "      <td>Unspecified</td>\n",
              "      <td>Unspecified</td>\n",
              "      <td>Unspecified</td>\n",
              "      <td>Unspecified</td>\n",
              "      <td>Unspecified</td>\n",
              "      <td>Unspecified</td>\n",
              "      <td>Unspecified</td>\n",
              "      <td>Unspecified</td>\n",
              "      <td>N</td>\n",
              "      <td>NaN</td>\n",
              "      <td>NaN</td>\n",
              "      <td>NaN</td>\n",
              "      <td>NaN</td>\n",
              "      <td>NaN</td>\n",
              "      <td>NaN</td>\n",
              "      <td>NaN</td>\n",
              "      <td>NaN</td>\n",
              "      <td>NaN</td>\n",
              "      <td>NaN</td>\n",
              "      <td>NaN</td>\n",
              "      <td>40.775945</td>\n",
              "      <td>-73.915094</td>\n",
              "      <td>(40.775945312321085, -73.91509393898605)</td>\n",
              "    </tr>\n",
              "    <tr>\n",
              "      <th>2</th>\n",
              "      <td>32309159</td>\n",
              "      <td>2015-12-31 23:59:29</td>\n",
              "      <td>2016-01-01 04:51:03</td>\n",
              "      <td>NYPD</td>\n",
              "      <td>New York City Police Department</td>\n",
              "      <td>Blocked Driveway</td>\n",
              "      <td>No Access</td>\n",
              "      <td>Street/Sidewalk</td>\n",
              "      <td>10458.0</td>\n",
              "      <td>2897 VALENTINE AVENUE</td>\n",
              "      <td>VALENTINE AVENUE</td>\n",
              "      <td>EAST 198 STREET</td>\n",
              "      <td>EAST 199 STREET</td>\n",
              "      <td>NaN</td>\n",
              "      <td>NaN</td>\n",
              "      <td>ADDRESS</td>\n",
              "      <td>BRONX</td>\n",
              "      <td>NaN</td>\n",
              "      <td>Precinct</td>\n",
              "      <td>Closed</td>\n",
              "      <td>01/01/2016 07:59:29 AM</td>\n",
              "      <td>The Police Department responded and upon arriv...</td>\n",
              "      <td>01/01/2016 04:51:03 AM</td>\n",
              "      <td>07 BRONX</td>\n",
              "      <td>BRONX</td>\n",
              "      <td>1015081.0</td>\n",
              "      <td>256380.0</td>\n",
              "      <td>Unspecified</td>\n",
              "      <td>BRONX</td>\n",
              "      <td>Unspecified</td>\n",
              "      <td>Unspecified</td>\n",
              "      <td>Unspecified</td>\n",
              "      <td>Unspecified</td>\n",
              "      <td>Unspecified</td>\n",
              "      <td>Unspecified</td>\n",
              "      <td>Unspecified</td>\n",
              "      <td>Unspecified</td>\n",
              "      <td>Unspecified</td>\n",
              "      <td>N</td>\n",
              "      <td>NaN</td>\n",
              "      <td>NaN</td>\n",
              "      <td>NaN</td>\n",
              "      <td>NaN</td>\n",
              "      <td>NaN</td>\n",
              "      <td>NaN</td>\n",
              "      <td>NaN</td>\n",
              "      <td>NaN</td>\n",
              "      <td>NaN</td>\n",
              "      <td>NaN</td>\n",
              "      <td>NaN</td>\n",
              "      <td>40.870325</td>\n",
              "      <td>-73.888525</td>\n",
              "      <td>(40.870324522111424, -73.88852464418646)</td>\n",
              "    </tr>\n",
              "    <tr>\n",
              "      <th>3</th>\n",
              "      <td>32305098</td>\n",
              "      <td>2015-12-31 23:57:46</td>\n",
              "      <td>2016-01-01 07:43:13</td>\n",
              "      <td>NYPD</td>\n",
              "      <td>New York City Police Department</td>\n",
              "      <td>Illegal Parking</td>\n",
              "      <td>Commercial Overnight Parking</td>\n",
              "      <td>Street/Sidewalk</td>\n",
              "      <td>10461.0</td>\n",
              "      <td>2940 BAISLEY AVENUE</td>\n",
              "      <td>BAISLEY AVENUE</td>\n",
              "      <td>EDISON AVENUE</td>\n",
              "      <td>B STREET</td>\n",
              "      <td>NaN</td>\n",
              "      <td>NaN</td>\n",
              "      <td>ADDRESS</td>\n",
              "      <td>BRONX</td>\n",
              "      <td>NaN</td>\n",
              "      <td>Precinct</td>\n",
              "      <td>Closed</td>\n",
              "      <td>01/01/2016 07:57:46 AM</td>\n",
              "      <td>The Police Department responded to the complai...</td>\n",
              "      <td>01/01/2016 07:43:13 AM</td>\n",
              "      <td>10 BRONX</td>\n",
              "      <td>BRONX</td>\n",
              "      <td>1031740.0</td>\n",
              "      <td>243899.0</td>\n",
              "      <td>Unspecified</td>\n",
              "      <td>BRONX</td>\n",
              "      <td>Unspecified</td>\n",
              "      <td>Unspecified</td>\n",
              "      <td>Unspecified</td>\n",
              "      <td>Unspecified</td>\n",
              "      <td>Unspecified</td>\n",
              "      <td>Unspecified</td>\n",
              "      <td>Unspecified</td>\n",
              "      <td>Unspecified</td>\n",
              "      <td>Unspecified</td>\n",
              "      <td>N</td>\n",
              "      <td>NaN</td>\n",
              "      <td>NaN</td>\n",
              "      <td>NaN</td>\n",
              "      <td>NaN</td>\n",
              "      <td>NaN</td>\n",
              "      <td>NaN</td>\n",
              "      <td>NaN</td>\n",
              "      <td>NaN</td>\n",
              "      <td>NaN</td>\n",
              "      <td>NaN</td>\n",
              "      <td>NaN</td>\n",
              "      <td>40.835994</td>\n",
              "      <td>-73.828379</td>\n",
              "      <td>(40.83599404683083, -73.82837939584206)</td>\n",
              "    </tr>\n",
              "    <tr>\n",
              "      <th>4</th>\n",
              "      <td>32306529</td>\n",
              "      <td>2015-12-31 23:56:58</td>\n",
              "      <td>2016-01-01 03:24:42</td>\n",
              "      <td>NYPD</td>\n",
              "      <td>New York City Police Department</td>\n",
              "      <td>Illegal Parking</td>\n",
              "      <td>Blocked Sidewalk</td>\n",
              "      <td>Street/Sidewalk</td>\n",
              "      <td>11373.0</td>\n",
              "      <td>87-14 57 ROAD</td>\n",
              "      <td>57 ROAD</td>\n",
              "      <td>SEABURY STREET</td>\n",
              "      <td>HOFFMAN DRIVE</td>\n",
              "      <td>NaN</td>\n",
              "      <td>NaN</td>\n",
              "      <td>ADDRESS</td>\n",
              "      <td>ELMHURST</td>\n",
              "      <td>NaN</td>\n",
              "      <td>Precinct</td>\n",
              "      <td>Closed</td>\n",
              "      <td>01/01/2016 07:56:58 AM</td>\n",
              "      <td>The Police Department responded and upon arriv...</td>\n",
              "      <td>01/01/2016 03:24:42 AM</td>\n",
              "      <td>04 QUEENS</td>\n",
              "      <td>QUEENS</td>\n",
              "      <td>1019123.0</td>\n",
              "      <td>206375.0</td>\n",
              "      <td>Unspecified</td>\n",
              "      <td>QUEENS</td>\n",
              "      <td>Unspecified</td>\n",
              "      <td>Unspecified</td>\n",
              "      <td>Unspecified</td>\n",
              "      <td>Unspecified</td>\n",
              "      <td>Unspecified</td>\n",
              "      <td>Unspecified</td>\n",
              "      <td>Unspecified</td>\n",
              "      <td>Unspecified</td>\n",
              "      <td>Unspecified</td>\n",
              "      <td>N</td>\n",
              "      <td>NaN</td>\n",
              "      <td>NaN</td>\n",
              "      <td>NaN</td>\n",
              "      <td>NaN</td>\n",
              "      <td>NaN</td>\n",
              "      <td>NaN</td>\n",
              "      <td>NaN</td>\n",
              "      <td>NaN</td>\n",
              "      <td>NaN</td>\n",
              "      <td>NaN</td>\n",
              "      <td>NaN</td>\n",
              "      <td>40.733060</td>\n",
              "      <td>-73.874170</td>\n",
              "      <td>(40.733059618956815, -73.87416975810375)</td>\n",
              "    </tr>\n",
              "  </tbody>\n",
              "</table>\n",
              "</div>"
            ],
            "text/plain": [
              "   Unique Key        Created Date         Closed Date Agency  \\\n",
              "0    32310363 2015-12-31 23:59:45 2016-01-01 00:55:15   NYPD   \n",
              "1    32309934 2015-12-31 23:59:44 2016-01-01 01:26:57   NYPD   \n",
              "2    32309159 2015-12-31 23:59:29 2016-01-01 04:51:03   NYPD   \n",
              "3    32305098 2015-12-31 23:57:46 2016-01-01 07:43:13   NYPD   \n",
              "4    32306529 2015-12-31 23:56:58 2016-01-01 03:24:42   NYPD   \n",
              "\n",
              "                       Agency Name           Complaint Type  \\\n",
              "0  New York City Police Department  Noise - Street/Sidewalk   \n",
              "1  New York City Police Department         Blocked Driveway   \n",
              "2  New York City Police Department         Blocked Driveway   \n",
              "3  New York City Police Department          Illegal Parking   \n",
              "4  New York City Police Department          Illegal Parking   \n",
              "\n",
              "                     Descriptor    Location Type  Incident Zip  \\\n",
              "0              Loud Music/Party  Street/Sidewalk       10034.0   \n",
              "1                     No Access  Street/Sidewalk       11105.0   \n",
              "2                     No Access  Street/Sidewalk       10458.0   \n",
              "3  Commercial Overnight Parking  Street/Sidewalk       10461.0   \n",
              "4              Blocked Sidewalk  Street/Sidewalk       11373.0   \n",
              "\n",
              "        Incident Address       Street Name   Cross Street 1   Cross Street 2  \\\n",
              "0    71 VERMILYEA AVENUE  VERMILYEA AVENUE   ACADEMY STREET  WEST 204 STREET   \n",
              "1        27-07 23 AVENUE         23 AVENUE        27 STREET        28 STREET   \n",
              "2  2897 VALENTINE AVENUE  VALENTINE AVENUE  EAST 198 STREET  EAST 199 STREET   \n",
              "3    2940 BAISLEY AVENUE    BAISLEY AVENUE    EDISON AVENUE         B STREET   \n",
              "4          87-14 57 ROAD           57 ROAD   SEABURY STREET    HOFFMAN DRIVE   \n",
              "\n",
              "  Intersection Street 1 Intersection Street 2 Address Type      City Landmark  \\\n",
              "0                   NaN                   NaN      ADDRESS  NEW YORK      NaN   \n",
              "1                   NaN                   NaN      ADDRESS   ASTORIA      NaN   \n",
              "2                   NaN                   NaN      ADDRESS     BRONX      NaN   \n",
              "3                   NaN                   NaN      ADDRESS     BRONX      NaN   \n",
              "4                   NaN                   NaN      ADDRESS  ELMHURST      NaN   \n",
              "\n",
              "  Facility Type  Status                Due Date  \\\n",
              "0      Precinct  Closed  01/01/2016 07:59:45 AM   \n",
              "1      Precinct  Closed  01/01/2016 07:59:44 AM   \n",
              "2      Precinct  Closed  01/01/2016 07:59:29 AM   \n",
              "3      Precinct  Closed  01/01/2016 07:57:46 AM   \n",
              "4      Precinct  Closed  01/01/2016 07:56:58 AM   \n",
              "\n",
              "                              Resolution Description  \\\n",
              "0  The Police Department responded and upon arriv...   \n",
              "1  The Police Department responded to the complai...   \n",
              "2  The Police Department responded and upon arriv...   \n",
              "3  The Police Department responded to the complai...   \n",
              "4  The Police Department responded and upon arriv...   \n",
              "\n",
              "  Resolution Action Updated Date Community Board    Borough  \\\n",
              "0         01/01/2016 12:55:15 AM    12 MANHATTAN  MANHATTAN   \n",
              "1         01/01/2016 01:26:57 AM       01 QUEENS     QUEENS   \n",
              "2         01/01/2016 04:51:03 AM        07 BRONX      BRONX   \n",
              "3         01/01/2016 07:43:13 AM        10 BRONX      BRONX   \n",
              "4         01/01/2016 03:24:42 AM       04 QUEENS     QUEENS   \n",
              "\n",
              "   X Coordinate (State Plane)  Y Coordinate (State Plane) Park Facility Name  \\\n",
              "0                   1005409.0                    254678.0        Unspecified   \n",
              "1                   1007766.0                    221986.0        Unspecified   \n",
              "2                   1015081.0                    256380.0        Unspecified   \n",
              "3                   1031740.0                    243899.0        Unspecified   \n",
              "4                   1019123.0                    206375.0        Unspecified   \n",
              "\n",
              "  Park Borough  School Name School Number School Region  School Code  \\\n",
              "0    MANHATTAN  Unspecified   Unspecified   Unspecified  Unspecified   \n",
              "1       QUEENS  Unspecified   Unspecified   Unspecified  Unspecified   \n",
              "2        BRONX  Unspecified   Unspecified   Unspecified  Unspecified   \n",
              "3        BRONX  Unspecified   Unspecified   Unspecified  Unspecified   \n",
              "4       QUEENS  Unspecified   Unspecified   Unspecified  Unspecified   \n",
              "\n",
              "  School Phone Number School Address  School City School State   School Zip  \\\n",
              "0         Unspecified    Unspecified  Unspecified  Unspecified  Unspecified   \n",
              "1         Unspecified    Unspecified  Unspecified  Unspecified  Unspecified   \n",
              "2         Unspecified    Unspecified  Unspecified  Unspecified  Unspecified   \n",
              "3         Unspecified    Unspecified  Unspecified  Unspecified  Unspecified   \n",
              "4         Unspecified    Unspecified  Unspecified  Unspecified  Unspecified   \n",
              "\n",
              "  School Not Found  School or Citywide Complaint  Vehicle Type  \\\n",
              "0                N                           NaN           NaN   \n",
              "1                N                           NaN           NaN   \n",
              "2                N                           NaN           NaN   \n",
              "3                N                           NaN           NaN   \n",
              "4                N                           NaN           NaN   \n",
              "\n",
              "   Taxi Company Borough  Taxi Pick Up Location Bridge Highway Name  \\\n",
              "0                   NaN                    NaN                 NaN   \n",
              "1                   NaN                    NaN                 NaN   \n",
              "2                   NaN                    NaN                 NaN   \n",
              "3                   NaN                    NaN                 NaN   \n",
              "4                   NaN                    NaN                 NaN   \n",
              "\n",
              "  Bridge Highway Direction Road Ramp Bridge Highway Segment  Garage Lot Name  \\\n",
              "0                      NaN       NaN                    NaN              NaN   \n",
              "1                      NaN       NaN                    NaN              NaN   \n",
              "2                      NaN       NaN                    NaN              NaN   \n",
              "3                      NaN       NaN                    NaN              NaN   \n",
              "4                      NaN       NaN                    NaN              NaN   \n",
              "\n",
              "  Ferry Direction Ferry Terminal Name   Latitude  Longitude  \\\n",
              "0             NaN                 NaN  40.865682 -73.923501   \n",
              "1             NaN                 NaN  40.775945 -73.915094   \n",
              "2             NaN                 NaN  40.870325 -73.888525   \n",
              "3             NaN                 NaN  40.835994 -73.828379   \n",
              "4             NaN                 NaN  40.733060 -73.874170   \n",
              "\n",
              "                                   Location  \n",
              "0   (40.86568153633767, -73.92350095571744)  \n",
              "1  (40.775945312321085, -73.91509393898605)  \n",
              "2  (40.870324522111424, -73.88852464418646)  \n",
              "3   (40.83599404683083, -73.82837939584206)  \n",
              "4  (40.733059618956815, -73.87416975810375)  "
            ]
          },
          "execution_count": 7,
          "metadata": {},
          "output_type": "execute_result"
        }
      ],
      "source": [
        "dataset.head(5)"
      ]
    },
    {
      "cell_type": "code",
      "source": [],
      "metadata": {
        "id": "XtiEoWG3ObvG"
      },
      "execution_count": null,
      "outputs": []
    },
    {
      "cell_type": "code",
      "execution_count": null,
      "metadata": {
        "id": "v3rNR4iWLPVm"
      },
      "outputs": [],
      "source": [
        "dataset['Request_Closing_Time'] = dataset['Closed Date']-dataset['Created Date']"
      ]
    },
    {
      "cell_type": "code",
      "execution_count": null,
      "metadata": {
        "id": "Ws01h4P2LPVn",
        "outputId": "f972d691-71d6-4c77-dd97-37439644cb5e"
      },
      "outputs": [
        {
          "data": {
            "text/html": [
              "<div>\n",
              "<style scoped>\n",
              "    .dataframe tbody tr th:only-of-type {\n",
              "        vertical-align: middle;\n",
              "    }\n",
              "\n",
              "    .dataframe tbody tr th {\n",
              "        vertical-align: top;\n",
              "    }\n",
              "\n",
              "    .dataframe thead th {\n",
              "        text-align: right;\n",
              "    }\n",
              "</style>\n",
              "<table border=\"1\" class=\"dataframe\">\n",
              "  <thead>\n",
              "    <tr style=\"text-align: right;\">\n",
              "      <th></th>\n",
              "      <th>Unique Key</th>\n",
              "      <th>Created Date</th>\n",
              "      <th>Closed Date</th>\n",
              "      <th>Agency</th>\n",
              "      <th>Agency Name</th>\n",
              "      <th>Complaint Type</th>\n",
              "      <th>Descriptor</th>\n",
              "      <th>Location Type</th>\n",
              "      <th>Incident Zip</th>\n",
              "      <th>Incident Address</th>\n",
              "      <th>Street Name</th>\n",
              "      <th>Cross Street 1</th>\n",
              "      <th>Cross Street 2</th>\n",
              "      <th>Intersection Street 1</th>\n",
              "      <th>Intersection Street 2</th>\n",
              "      <th>Address Type</th>\n",
              "      <th>City</th>\n",
              "      <th>Landmark</th>\n",
              "      <th>Facility Type</th>\n",
              "      <th>Status</th>\n",
              "      <th>Due Date</th>\n",
              "      <th>Resolution Description</th>\n",
              "      <th>Resolution Action Updated Date</th>\n",
              "      <th>Community Board</th>\n",
              "      <th>Borough</th>\n",
              "      <th>X Coordinate (State Plane)</th>\n",
              "      <th>Y Coordinate (State Plane)</th>\n",
              "      <th>Park Facility Name</th>\n",
              "      <th>Park Borough</th>\n",
              "      <th>School Name</th>\n",
              "      <th>School Number</th>\n",
              "      <th>School Region</th>\n",
              "      <th>School Code</th>\n",
              "      <th>School Phone Number</th>\n",
              "      <th>School Address</th>\n",
              "      <th>School City</th>\n",
              "      <th>School State</th>\n",
              "      <th>School Zip</th>\n",
              "      <th>School Not Found</th>\n",
              "      <th>School or Citywide Complaint</th>\n",
              "      <th>Vehicle Type</th>\n",
              "      <th>Taxi Company Borough</th>\n",
              "      <th>Taxi Pick Up Location</th>\n",
              "      <th>Bridge Highway Name</th>\n",
              "      <th>Bridge Highway Direction</th>\n",
              "      <th>Road Ramp</th>\n",
              "      <th>Bridge Highway Segment</th>\n",
              "      <th>Garage Lot Name</th>\n",
              "      <th>Ferry Direction</th>\n",
              "      <th>Ferry Terminal Name</th>\n",
              "      <th>Latitude</th>\n",
              "      <th>Longitude</th>\n",
              "      <th>Location</th>\n",
              "      <th>Request_Closing_Time</th>\n",
              "    </tr>\n",
              "  </thead>\n",
              "  <tbody>\n",
              "    <tr>\n",
              "      <th>0</th>\n",
              "      <td>32310363</td>\n",
              "      <td>2015-12-31 23:59:45</td>\n",
              "      <td>2016-01-01 00:55:15</td>\n",
              "      <td>NYPD</td>\n",
              "      <td>New York City Police Department</td>\n",
              "      <td>Noise - Street/Sidewalk</td>\n",
              "      <td>Loud Music/Party</td>\n",
              "      <td>Street/Sidewalk</td>\n",
              "      <td>10034.0</td>\n",
              "      <td>71 VERMILYEA AVENUE</td>\n",
              "      <td>VERMILYEA AVENUE</td>\n",
              "      <td>ACADEMY STREET</td>\n",
              "      <td>WEST 204 STREET</td>\n",
              "      <td>NaN</td>\n",
              "      <td>NaN</td>\n",
              "      <td>ADDRESS</td>\n",
              "      <td>NEW YORK</td>\n",
              "      <td>NaN</td>\n",
              "      <td>Precinct</td>\n",
              "      <td>Closed</td>\n",
              "      <td>01/01/2016 07:59:45 AM</td>\n",
              "      <td>The Police Department responded and upon arriv...</td>\n",
              "      <td>01/01/2016 12:55:15 AM</td>\n",
              "      <td>12 MANHATTAN</td>\n",
              "      <td>MANHATTAN</td>\n",
              "      <td>1005409.0</td>\n",
              "      <td>254678.0</td>\n",
              "      <td>Unspecified</td>\n",
              "      <td>MANHATTAN</td>\n",
              "      <td>Unspecified</td>\n",
              "      <td>Unspecified</td>\n",
              "      <td>Unspecified</td>\n",
              "      <td>Unspecified</td>\n",
              "      <td>Unspecified</td>\n",
              "      <td>Unspecified</td>\n",
              "      <td>Unspecified</td>\n",
              "      <td>Unspecified</td>\n",
              "      <td>Unspecified</td>\n",
              "      <td>N</td>\n",
              "      <td>NaN</td>\n",
              "      <td>NaN</td>\n",
              "      <td>NaN</td>\n",
              "      <td>NaN</td>\n",
              "      <td>NaN</td>\n",
              "      <td>NaN</td>\n",
              "      <td>NaN</td>\n",
              "      <td>NaN</td>\n",
              "      <td>NaN</td>\n",
              "      <td>NaN</td>\n",
              "      <td>NaN</td>\n",
              "      <td>40.865682</td>\n",
              "      <td>-73.923501</td>\n",
              "      <td>(40.86568153633767, -73.92350095571744)</td>\n",
              "      <td>00:55:30</td>\n",
              "    </tr>\n",
              "    <tr>\n",
              "      <th>1</th>\n",
              "      <td>32309934</td>\n",
              "      <td>2015-12-31 23:59:44</td>\n",
              "      <td>2016-01-01 01:26:57</td>\n",
              "      <td>NYPD</td>\n",
              "      <td>New York City Police Department</td>\n",
              "      <td>Blocked Driveway</td>\n",
              "      <td>No Access</td>\n",
              "      <td>Street/Sidewalk</td>\n",
              "      <td>11105.0</td>\n",
              "      <td>27-07 23 AVENUE</td>\n",
              "      <td>23 AVENUE</td>\n",
              "      <td>27 STREET</td>\n",
              "      <td>28 STREET</td>\n",
              "      <td>NaN</td>\n",
              "      <td>NaN</td>\n",
              "      <td>ADDRESS</td>\n",
              "      <td>ASTORIA</td>\n",
              "      <td>NaN</td>\n",
              "      <td>Precinct</td>\n",
              "      <td>Closed</td>\n",
              "      <td>01/01/2016 07:59:44 AM</td>\n",
              "      <td>The Police Department responded to the complai...</td>\n",
              "      <td>01/01/2016 01:26:57 AM</td>\n",
              "      <td>01 QUEENS</td>\n",
              "      <td>QUEENS</td>\n",
              "      <td>1007766.0</td>\n",
              "      <td>221986.0</td>\n",
              "      <td>Unspecified</td>\n",
              "      <td>QUEENS</td>\n",
              "      <td>Unspecified</td>\n",
              "      <td>Unspecified</td>\n",
              "      <td>Unspecified</td>\n",
              "      <td>Unspecified</td>\n",
              "      <td>Unspecified</td>\n",
              "      <td>Unspecified</td>\n",
              "      <td>Unspecified</td>\n",
              "      <td>Unspecified</td>\n",
              "      <td>Unspecified</td>\n",
              "      <td>N</td>\n",
              "      <td>NaN</td>\n",
              "      <td>NaN</td>\n",
              "      <td>NaN</td>\n",
              "      <td>NaN</td>\n",
              "      <td>NaN</td>\n",
              "      <td>NaN</td>\n",
              "      <td>NaN</td>\n",
              "      <td>NaN</td>\n",
              "      <td>NaN</td>\n",
              "      <td>NaN</td>\n",
              "      <td>NaN</td>\n",
              "      <td>40.775945</td>\n",
              "      <td>-73.915094</td>\n",
              "      <td>(40.775945312321085, -73.91509393898605)</td>\n",
              "      <td>01:27:13</td>\n",
              "    </tr>\n",
              "    <tr>\n",
              "      <th>2</th>\n",
              "      <td>32309159</td>\n",
              "      <td>2015-12-31 23:59:29</td>\n",
              "      <td>2016-01-01 04:51:03</td>\n",
              "      <td>NYPD</td>\n",
              "      <td>New York City Police Department</td>\n",
              "      <td>Blocked Driveway</td>\n",
              "      <td>No Access</td>\n",
              "      <td>Street/Sidewalk</td>\n",
              "      <td>10458.0</td>\n",
              "      <td>2897 VALENTINE AVENUE</td>\n",
              "      <td>VALENTINE AVENUE</td>\n",
              "      <td>EAST 198 STREET</td>\n",
              "      <td>EAST 199 STREET</td>\n",
              "      <td>NaN</td>\n",
              "      <td>NaN</td>\n",
              "      <td>ADDRESS</td>\n",
              "      <td>BRONX</td>\n",
              "      <td>NaN</td>\n",
              "      <td>Precinct</td>\n",
              "      <td>Closed</td>\n",
              "      <td>01/01/2016 07:59:29 AM</td>\n",
              "      <td>The Police Department responded and upon arriv...</td>\n",
              "      <td>01/01/2016 04:51:03 AM</td>\n",
              "      <td>07 BRONX</td>\n",
              "      <td>BRONX</td>\n",
              "      <td>1015081.0</td>\n",
              "      <td>256380.0</td>\n",
              "      <td>Unspecified</td>\n",
              "      <td>BRONX</td>\n",
              "      <td>Unspecified</td>\n",
              "      <td>Unspecified</td>\n",
              "      <td>Unspecified</td>\n",
              "      <td>Unspecified</td>\n",
              "      <td>Unspecified</td>\n",
              "      <td>Unspecified</td>\n",
              "      <td>Unspecified</td>\n",
              "      <td>Unspecified</td>\n",
              "      <td>Unspecified</td>\n",
              "      <td>N</td>\n",
              "      <td>NaN</td>\n",
              "      <td>NaN</td>\n",
              "      <td>NaN</td>\n",
              "      <td>NaN</td>\n",
              "      <td>NaN</td>\n",
              "      <td>NaN</td>\n",
              "      <td>NaN</td>\n",
              "      <td>NaN</td>\n",
              "      <td>NaN</td>\n",
              "      <td>NaN</td>\n",
              "      <td>NaN</td>\n",
              "      <td>40.870325</td>\n",
              "      <td>-73.888525</td>\n",
              "      <td>(40.870324522111424, -73.88852464418646)</td>\n",
              "      <td>04:51:34</td>\n",
              "    </tr>\n",
              "    <tr>\n",
              "      <th>3</th>\n",
              "      <td>32305098</td>\n",
              "      <td>2015-12-31 23:57:46</td>\n",
              "      <td>2016-01-01 07:43:13</td>\n",
              "      <td>NYPD</td>\n",
              "      <td>New York City Police Department</td>\n",
              "      <td>Illegal Parking</td>\n",
              "      <td>Commercial Overnight Parking</td>\n",
              "      <td>Street/Sidewalk</td>\n",
              "      <td>10461.0</td>\n",
              "      <td>2940 BAISLEY AVENUE</td>\n",
              "      <td>BAISLEY AVENUE</td>\n",
              "      <td>EDISON AVENUE</td>\n",
              "      <td>B STREET</td>\n",
              "      <td>NaN</td>\n",
              "      <td>NaN</td>\n",
              "      <td>ADDRESS</td>\n",
              "      <td>BRONX</td>\n",
              "      <td>NaN</td>\n",
              "      <td>Precinct</td>\n",
              "      <td>Closed</td>\n",
              "      <td>01/01/2016 07:57:46 AM</td>\n",
              "      <td>The Police Department responded to the complai...</td>\n",
              "      <td>01/01/2016 07:43:13 AM</td>\n",
              "      <td>10 BRONX</td>\n",
              "      <td>BRONX</td>\n",
              "      <td>1031740.0</td>\n",
              "      <td>243899.0</td>\n",
              "      <td>Unspecified</td>\n",
              "      <td>BRONX</td>\n",
              "      <td>Unspecified</td>\n",
              "      <td>Unspecified</td>\n",
              "      <td>Unspecified</td>\n",
              "      <td>Unspecified</td>\n",
              "      <td>Unspecified</td>\n",
              "      <td>Unspecified</td>\n",
              "      <td>Unspecified</td>\n",
              "      <td>Unspecified</td>\n",
              "      <td>Unspecified</td>\n",
              "      <td>N</td>\n",
              "      <td>NaN</td>\n",
              "      <td>NaN</td>\n",
              "      <td>NaN</td>\n",
              "      <td>NaN</td>\n",
              "      <td>NaN</td>\n",
              "      <td>NaN</td>\n",
              "      <td>NaN</td>\n",
              "      <td>NaN</td>\n",
              "      <td>NaN</td>\n",
              "      <td>NaN</td>\n",
              "      <td>NaN</td>\n",
              "      <td>40.835994</td>\n",
              "      <td>-73.828379</td>\n",
              "      <td>(40.83599404683083, -73.82837939584206)</td>\n",
              "      <td>07:45:27</td>\n",
              "    </tr>\n",
              "    <tr>\n",
              "      <th>4</th>\n",
              "      <td>32306529</td>\n",
              "      <td>2015-12-31 23:56:58</td>\n",
              "      <td>2016-01-01 03:24:42</td>\n",
              "      <td>NYPD</td>\n",
              "      <td>New York City Police Department</td>\n",
              "      <td>Illegal Parking</td>\n",
              "      <td>Blocked Sidewalk</td>\n",
              "      <td>Street/Sidewalk</td>\n",
              "      <td>11373.0</td>\n",
              "      <td>87-14 57 ROAD</td>\n",
              "      <td>57 ROAD</td>\n",
              "      <td>SEABURY STREET</td>\n",
              "      <td>HOFFMAN DRIVE</td>\n",
              "      <td>NaN</td>\n",
              "      <td>NaN</td>\n",
              "      <td>ADDRESS</td>\n",
              "      <td>ELMHURST</td>\n",
              "      <td>NaN</td>\n",
              "      <td>Precinct</td>\n",
              "      <td>Closed</td>\n",
              "      <td>01/01/2016 07:56:58 AM</td>\n",
              "      <td>The Police Department responded and upon arriv...</td>\n",
              "      <td>01/01/2016 03:24:42 AM</td>\n",
              "      <td>04 QUEENS</td>\n",
              "      <td>QUEENS</td>\n",
              "      <td>1019123.0</td>\n",
              "      <td>206375.0</td>\n",
              "      <td>Unspecified</td>\n",
              "      <td>QUEENS</td>\n",
              "      <td>Unspecified</td>\n",
              "      <td>Unspecified</td>\n",
              "      <td>Unspecified</td>\n",
              "      <td>Unspecified</td>\n",
              "      <td>Unspecified</td>\n",
              "      <td>Unspecified</td>\n",
              "      <td>Unspecified</td>\n",
              "      <td>Unspecified</td>\n",
              "      <td>Unspecified</td>\n",
              "      <td>N</td>\n",
              "      <td>NaN</td>\n",
              "      <td>NaN</td>\n",
              "      <td>NaN</td>\n",
              "      <td>NaN</td>\n",
              "      <td>NaN</td>\n",
              "      <td>NaN</td>\n",
              "      <td>NaN</td>\n",
              "      <td>NaN</td>\n",
              "      <td>NaN</td>\n",
              "      <td>NaN</td>\n",
              "      <td>NaN</td>\n",
              "      <td>40.733060</td>\n",
              "      <td>-73.874170</td>\n",
              "      <td>(40.733059618956815, -73.87416975810375)</td>\n",
              "      <td>03:27:44</td>\n",
              "    </tr>\n",
              "  </tbody>\n",
              "</table>\n",
              "</div>"
            ],
            "text/plain": [
              "   Unique Key        Created Date         Closed Date Agency  \\\n",
              "0    32310363 2015-12-31 23:59:45 2016-01-01 00:55:15   NYPD   \n",
              "1    32309934 2015-12-31 23:59:44 2016-01-01 01:26:57   NYPD   \n",
              "2    32309159 2015-12-31 23:59:29 2016-01-01 04:51:03   NYPD   \n",
              "3    32305098 2015-12-31 23:57:46 2016-01-01 07:43:13   NYPD   \n",
              "4    32306529 2015-12-31 23:56:58 2016-01-01 03:24:42   NYPD   \n",
              "\n",
              "                       Agency Name           Complaint Type  \\\n",
              "0  New York City Police Department  Noise - Street/Sidewalk   \n",
              "1  New York City Police Department         Blocked Driveway   \n",
              "2  New York City Police Department         Blocked Driveway   \n",
              "3  New York City Police Department          Illegal Parking   \n",
              "4  New York City Police Department          Illegal Parking   \n",
              "\n",
              "                     Descriptor    Location Type  Incident Zip  \\\n",
              "0              Loud Music/Party  Street/Sidewalk       10034.0   \n",
              "1                     No Access  Street/Sidewalk       11105.0   \n",
              "2                     No Access  Street/Sidewalk       10458.0   \n",
              "3  Commercial Overnight Parking  Street/Sidewalk       10461.0   \n",
              "4              Blocked Sidewalk  Street/Sidewalk       11373.0   \n",
              "\n",
              "        Incident Address       Street Name   Cross Street 1   Cross Street 2  \\\n",
              "0    71 VERMILYEA AVENUE  VERMILYEA AVENUE   ACADEMY STREET  WEST 204 STREET   \n",
              "1        27-07 23 AVENUE         23 AVENUE        27 STREET        28 STREET   \n",
              "2  2897 VALENTINE AVENUE  VALENTINE AVENUE  EAST 198 STREET  EAST 199 STREET   \n",
              "3    2940 BAISLEY AVENUE    BAISLEY AVENUE    EDISON AVENUE         B STREET   \n",
              "4          87-14 57 ROAD           57 ROAD   SEABURY STREET    HOFFMAN DRIVE   \n",
              "\n",
              "  Intersection Street 1 Intersection Street 2 Address Type      City Landmark  \\\n",
              "0                   NaN                   NaN      ADDRESS  NEW YORK      NaN   \n",
              "1                   NaN                   NaN      ADDRESS   ASTORIA      NaN   \n",
              "2                   NaN                   NaN      ADDRESS     BRONX      NaN   \n",
              "3                   NaN                   NaN      ADDRESS     BRONX      NaN   \n",
              "4                   NaN                   NaN      ADDRESS  ELMHURST      NaN   \n",
              "\n",
              "  Facility Type  Status                Due Date  \\\n",
              "0      Precinct  Closed  01/01/2016 07:59:45 AM   \n",
              "1      Precinct  Closed  01/01/2016 07:59:44 AM   \n",
              "2      Precinct  Closed  01/01/2016 07:59:29 AM   \n",
              "3      Precinct  Closed  01/01/2016 07:57:46 AM   \n",
              "4      Precinct  Closed  01/01/2016 07:56:58 AM   \n",
              "\n",
              "                              Resolution Description  \\\n",
              "0  The Police Department responded and upon arriv...   \n",
              "1  The Police Department responded to the complai...   \n",
              "2  The Police Department responded and upon arriv...   \n",
              "3  The Police Department responded to the complai...   \n",
              "4  The Police Department responded and upon arriv...   \n",
              "\n",
              "  Resolution Action Updated Date Community Board    Borough  \\\n",
              "0         01/01/2016 12:55:15 AM    12 MANHATTAN  MANHATTAN   \n",
              "1         01/01/2016 01:26:57 AM       01 QUEENS     QUEENS   \n",
              "2         01/01/2016 04:51:03 AM        07 BRONX      BRONX   \n",
              "3         01/01/2016 07:43:13 AM        10 BRONX      BRONX   \n",
              "4         01/01/2016 03:24:42 AM       04 QUEENS     QUEENS   \n",
              "\n",
              "   X Coordinate (State Plane)  Y Coordinate (State Plane) Park Facility Name  \\\n",
              "0                   1005409.0                    254678.0        Unspecified   \n",
              "1                   1007766.0                    221986.0        Unspecified   \n",
              "2                   1015081.0                    256380.0        Unspecified   \n",
              "3                   1031740.0                    243899.0        Unspecified   \n",
              "4                   1019123.0                    206375.0        Unspecified   \n",
              "\n",
              "  Park Borough  School Name School Number School Region  School Code  \\\n",
              "0    MANHATTAN  Unspecified   Unspecified   Unspecified  Unspecified   \n",
              "1       QUEENS  Unspecified   Unspecified   Unspecified  Unspecified   \n",
              "2        BRONX  Unspecified   Unspecified   Unspecified  Unspecified   \n",
              "3        BRONX  Unspecified   Unspecified   Unspecified  Unspecified   \n",
              "4       QUEENS  Unspecified   Unspecified   Unspecified  Unspecified   \n",
              "\n",
              "  School Phone Number School Address  School City School State   School Zip  \\\n",
              "0         Unspecified    Unspecified  Unspecified  Unspecified  Unspecified   \n",
              "1         Unspecified    Unspecified  Unspecified  Unspecified  Unspecified   \n",
              "2         Unspecified    Unspecified  Unspecified  Unspecified  Unspecified   \n",
              "3         Unspecified    Unspecified  Unspecified  Unspecified  Unspecified   \n",
              "4         Unspecified    Unspecified  Unspecified  Unspecified  Unspecified   \n",
              "\n",
              "  School Not Found  School or Citywide Complaint  Vehicle Type  \\\n",
              "0                N                           NaN           NaN   \n",
              "1                N                           NaN           NaN   \n",
              "2                N                           NaN           NaN   \n",
              "3                N                           NaN           NaN   \n",
              "4                N                           NaN           NaN   \n",
              "\n",
              "   Taxi Company Borough  Taxi Pick Up Location Bridge Highway Name  \\\n",
              "0                   NaN                    NaN                 NaN   \n",
              "1                   NaN                    NaN                 NaN   \n",
              "2                   NaN                    NaN                 NaN   \n",
              "3                   NaN                    NaN                 NaN   \n",
              "4                   NaN                    NaN                 NaN   \n",
              "\n",
              "  Bridge Highway Direction Road Ramp Bridge Highway Segment  Garage Lot Name  \\\n",
              "0                      NaN       NaN                    NaN              NaN   \n",
              "1                      NaN       NaN                    NaN              NaN   \n",
              "2                      NaN       NaN                    NaN              NaN   \n",
              "3                      NaN       NaN                    NaN              NaN   \n",
              "4                      NaN       NaN                    NaN              NaN   \n",
              "\n",
              "  Ferry Direction Ferry Terminal Name   Latitude  Longitude  \\\n",
              "0             NaN                 NaN  40.865682 -73.923501   \n",
              "1             NaN                 NaN  40.775945 -73.915094   \n",
              "2             NaN                 NaN  40.870325 -73.888525   \n",
              "3             NaN                 NaN  40.835994 -73.828379   \n",
              "4             NaN                 NaN  40.733060 -73.874170   \n",
              "\n",
              "                                   Location Request_Closing_Time  \n",
              "0   (40.86568153633767, -73.92350095571744)             00:55:30  \n",
              "1  (40.775945312321085, -73.91509393898605)             01:27:13  \n",
              "2  (40.870324522111424, -73.88852464418646)             04:51:34  \n",
              "3   (40.83599404683083, -73.82837939584206)             07:45:27  \n",
              "4  (40.733059618956815, -73.87416975810375)             03:27:44  "
            ]
          },
          "execution_count": 9,
          "metadata": {},
          "output_type": "execute_result"
        }
      ],
      "source": [
        "dataset.head(5)"
      ]
    },
    {
      "cell_type": "code",
      "execution_count": null,
      "metadata": {
        "id": "uYu8Oe85LPVp",
        "outputId": "f4e41987-f501-4f66-ef94-dd85bb6aec89"
      },
      "outputs": [
        {
          "data": {
            "text/plain": [
              "Index(['Unique Key', 'Created Date', 'Closed Date', 'Agency', 'Agency Name',\n",
              "       'Complaint Type', 'Descriptor', 'Location Type', 'Incident Zip',\n",
              "       'Incident Address', 'Street Name', 'Cross Street 1', 'Cross Street 2',\n",
              "       'Intersection Street 1', 'Intersection Street 2', 'Address Type',\n",
              "       'City', 'Landmark', 'Facility Type', 'Status', 'Due Date',\n",
              "       'Resolution Description', 'Resolution Action Updated Date',\n",
              "       'Community Board', 'Borough', 'X Coordinate (State Plane)',\n",
              "       'Y Coordinate (State Plane)', 'Park Facility Name', 'Park Borough',\n",
              "       'School Name', 'School Number', 'School Region', 'School Code',\n",
              "       'School Phone Number', 'School Address', 'School City', 'School State',\n",
              "       'School Zip', 'School Not Found', 'School or Citywide Complaint',\n",
              "       'Vehicle Type', 'Taxi Company Borough', 'Taxi Pick Up Location',\n",
              "       'Bridge Highway Name', 'Bridge Highway Direction', 'Road Ramp',\n",
              "       'Bridge Highway Segment', 'Garage Lot Name', 'Ferry Direction',\n",
              "       'Ferry Terminal Name', 'Latitude', 'Longitude', 'Location',\n",
              "       'Request_Closing_Time'],\n",
              "      dtype='object')"
            ]
          },
          "execution_count": 10,
          "metadata": {},
          "output_type": "execute_result"
        }
      ],
      "source": [
        "dataset.columns"
      ]
    },
    {
      "cell_type": "code",
      "execution_count": null,
      "metadata": {
        "id": "oKtI6nJQLPVr"
      },
      "outputs": [],
      "source": [
        "dataset.drop(['Incident Address', 'Street Name', 'Cross Street 1', 'Cross Street 2',\n",
        "       'Intersection Street 1', 'Intersection Street 2','Resolution Description', \n",
        "     'Resolution Action Updated Date','Community Board','X Coordinate (State Plane)','School or Citywide Complaint',\n",
        "    'Vehicle Type','Taxi Company Borough','Taxi Pick Up Location','Garage Lot Name','School Name', 'School Number', \n",
        "              'School Region', 'School Code','School Phone Number', 'School Address', 'School City', 'School State',\n",
        "       'School Zip', 'School Not Found','Ferry Direction', 'Ferry Terminal Name','Unique Key','Bridge Highway Name',\n",
        "       'Bridge Highway Direction', 'Road Ramp', 'Bridge Highway Segment'],axis=1,inplace=True)"
      ]
    },
    {
      "cell_type": "code",
      "execution_count": null,
      "metadata": {
        "id": "FgwYuTNyLPVs",
        "outputId": "8fbd8dcc-744b-4efc-fad1-61f140af7c80"
      },
      "outputs": [
        {
          "data": {
            "text/html": [
              "<div>\n",
              "<style scoped>\n",
              "    .dataframe tbody tr th:only-of-type {\n",
              "        vertical-align: middle;\n",
              "    }\n",
              "\n",
              "    .dataframe tbody tr th {\n",
              "        vertical-align: top;\n",
              "    }\n",
              "\n",
              "    .dataframe thead th {\n",
              "        text-align: right;\n",
              "    }\n",
              "</style>\n",
              "<table border=\"1\" class=\"dataframe\">\n",
              "  <thead>\n",
              "    <tr style=\"text-align: right;\">\n",
              "      <th></th>\n",
              "      <th>Created Date</th>\n",
              "      <th>Closed Date</th>\n",
              "      <th>Agency</th>\n",
              "      <th>Agency Name</th>\n",
              "      <th>Complaint Type</th>\n",
              "      <th>Descriptor</th>\n",
              "      <th>Location Type</th>\n",
              "      <th>Incident Zip</th>\n",
              "      <th>Address Type</th>\n",
              "      <th>City</th>\n",
              "      <th>Landmark</th>\n",
              "      <th>Facility Type</th>\n",
              "      <th>Status</th>\n",
              "      <th>Due Date</th>\n",
              "      <th>Borough</th>\n",
              "      <th>Y Coordinate (State Plane)</th>\n",
              "      <th>Park Facility Name</th>\n",
              "      <th>Park Borough</th>\n",
              "      <th>Latitude</th>\n",
              "      <th>Longitude</th>\n",
              "      <th>Location</th>\n",
              "      <th>Request_Closing_Time</th>\n",
              "    </tr>\n",
              "  </thead>\n",
              "  <tbody>\n",
              "    <tr>\n",
              "      <th>0</th>\n",
              "      <td>2015-12-31 23:59:45</td>\n",
              "      <td>2016-01-01 00:55:15</td>\n",
              "      <td>NYPD</td>\n",
              "      <td>New York City Police Department</td>\n",
              "      <td>Noise - Street/Sidewalk</td>\n",
              "      <td>Loud Music/Party</td>\n",
              "      <td>Street/Sidewalk</td>\n",
              "      <td>10034.0</td>\n",
              "      <td>ADDRESS</td>\n",
              "      <td>NEW YORK</td>\n",
              "      <td>NaN</td>\n",
              "      <td>Precinct</td>\n",
              "      <td>Closed</td>\n",
              "      <td>01/01/2016 07:59:45 AM</td>\n",
              "      <td>MANHATTAN</td>\n",
              "      <td>254678.0</td>\n",
              "      <td>Unspecified</td>\n",
              "      <td>MANHATTAN</td>\n",
              "      <td>40.865682</td>\n",
              "      <td>-73.923501</td>\n",
              "      <td>(40.86568153633767, -73.92350095571744)</td>\n",
              "      <td>00:55:30</td>\n",
              "    </tr>\n",
              "    <tr>\n",
              "      <th>1</th>\n",
              "      <td>2015-12-31 23:59:44</td>\n",
              "      <td>2016-01-01 01:26:57</td>\n",
              "      <td>NYPD</td>\n",
              "      <td>New York City Police Department</td>\n",
              "      <td>Blocked Driveway</td>\n",
              "      <td>No Access</td>\n",
              "      <td>Street/Sidewalk</td>\n",
              "      <td>11105.0</td>\n",
              "      <td>ADDRESS</td>\n",
              "      <td>ASTORIA</td>\n",
              "      <td>NaN</td>\n",
              "      <td>Precinct</td>\n",
              "      <td>Closed</td>\n",
              "      <td>01/01/2016 07:59:44 AM</td>\n",
              "      <td>QUEENS</td>\n",
              "      <td>221986.0</td>\n",
              "      <td>Unspecified</td>\n",
              "      <td>QUEENS</td>\n",
              "      <td>40.775945</td>\n",
              "      <td>-73.915094</td>\n",
              "      <td>(40.775945312321085, -73.91509393898605)</td>\n",
              "      <td>01:27:13</td>\n",
              "    </tr>\n",
              "    <tr>\n",
              "      <th>2</th>\n",
              "      <td>2015-12-31 23:59:29</td>\n",
              "      <td>2016-01-01 04:51:03</td>\n",
              "      <td>NYPD</td>\n",
              "      <td>New York City Police Department</td>\n",
              "      <td>Blocked Driveway</td>\n",
              "      <td>No Access</td>\n",
              "      <td>Street/Sidewalk</td>\n",
              "      <td>10458.0</td>\n",
              "      <td>ADDRESS</td>\n",
              "      <td>BRONX</td>\n",
              "      <td>NaN</td>\n",
              "      <td>Precinct</td>\n",
              "      <td>Closed</td>\n",
              "      <td>01/01/2016 07:59:29 AM</td>\n",
              "      <td>BRONX</td>\n",
              "      <td>256380.0</td>\n",
              "      <td>Unspecified</td>\n",
              "      <td>BRONX</td>\n",
              "      <td>40.870325</td>\n",
              "      <td>-73.888525</td>\n",
              "      <td>(40.870324522111424, -73.88852464418646)</td>\n",
              "      <td>04:51:34</td>\n",
              "    </tr>\n",
              "    <tr>\n",
              "      <th>3</th>\n",
              "      <td>2015-12-31 23:57:46</td>\n",
              "      <td>2016-01-01 07:43:13</td>\n",
              "      <td>NYPD</td>\n",
              "      <td>New York City Police Department</td>\n",
              "      <td>Illegal Parking</td>\n",
              "      <td>Commercial Overnight Parking</td>\n",
              "      <td>Street/Sidewalk</td>\n",
              "      <td>10461.0</td>\n",
              "      <td>ADDRESS</td>\n",
              "      <td>BRONX</td>\n",
              "      <td>NaN</td>\n",
              "      <td>Precinct</td>\n",
              "      <td>Closed</td>\n",
              "      <td>01/01/2016 07:57:46 AM</td>\n",
              "      <td>BRONX</td>\n",
              "      <td>243899.0</td>\n",
              "      <td>Unspecified</td>\n",
              "      <td>BRONX</td>\n",
              "      <td>40.835994</td>\n",
              "      <td>-73.828379</td>\n",
              "      <td>(40.83599404683083, -73.82837939584206)</td>\n",
              "      <td>07:45:27</td>\n",
              "    </tr>\n",
              "    <tr>\n",
              "      <th>4</th>\n",
              "      <td>2015-12-31 23:56:58</td>\n",
              "      <td>2016-01-01 03:24:42</td>\n",
              "      <td>NYPD</td>\n",
              "      <td>New York City Police Department</td>\n",
              "      <td>Illegal Parking</td>\n",
              "      <td>Blocked Sidewalk</td>\n",
              "      <td>Street/Sidewalk</td>\n",
              "      <td>11373.0</td>\n",
              "      <td>ADDRESS</td>\n",
              "      <td>ELMHURST</td>\n",
              "      <td>NaN</td>\n",
              "      <td>Precinct</td>\n",
              "      <td>Closed</td>\n",
              "      <td>01/01/2016 07:56:58 AM</td>\n",
              "      <td>QUEENS</td>\n",
              "      <td>206375.0</td>\n",
              "      <td>Unspecified</td>\n",
              "      <td>QUEENS</td>\n",
              "      <td>40.733060</td>\n",
              "      <td>-73.874170</td>\n",
              "      <td>(40.733059618956815, -73.87416975810375)</td>\n",
              "      <td>03:27:44</td>\n",
              "    </tr>\n",
              "  </tbody>\n",
              "</table>\n",
              "</div>"
            ],
            "text/plain": [
              "         Created Date         Closed Date Agency  \\\n",
              "0 2015-12-31 23:59:45 2016-01-01 00:55:15   NYPD   \n",
              "1 2015-12-31 23:59:44 2016-01-01 01:26:57   NYPD   \n",
              "2 2015-12-31 23:59:29 2016-01-01 04:51:03   NYPD   \n",
              "3 2015-12-31 23:57:46 2016-01-01 07:43:13   NYPD   \n",
              "4 2015-12-31 23:56:58 2016-01-01 03:24:42   NYPD   \n",
              "\n",
              "                       Agency Name           Complaint Type  \\\n",
              "0  New York City Police Department  Noise - Street/Sidewalk   \n",
              "1  New York City Police Department         Blocked Driveway   \n",
              "2  New York City Police Department         Blocked Driveway   \n",
              "3  New York City Police Department          Illegal Parking   \n",
              "4  New York City Police Department          Illegal Parking   \n",
              "\n",
              "                     Descriptor    Location Type  Incident Zip Address Type  \\\n",
              "0              Loud Music/Party  Street/Sidewalk       10034.0      ADDRESS   \n",
              "1                     No Access  Street/Sidewalk       11105.0      ADDRESS   \n",
              "2                     No Access  Street/Sidewalk       10458.0      ADDRESS   \n",
              "3  Commercial Overnight Parking  Street/Sidewalk       10461.0      ADDRESS   \n",
              "4              Blocked Sidewalk  Street/Sidewalk       11373.0      ADDRESS   \n",
              "\n",
              "       City Landmark Facility Type  Status                Due Date    Borough  \\\n",
              "0  NEW YORK      NaN      Precinct  Closed  01/01/2016 07:59:45 AM  MANHATTAN   \n",
              "1   ASTORIA      NaN      Precinct  Closed  01/01/2016 07:59:44 AM     QUEENS   \n",
              "2     BRONX      NaN      Precinct  Closed  01/01/2016 07:59:29 AM      BRONX   \n",
              "3     BRONX      NaN      Precinct  Closed  01/01/2016 07:57:46 AM      BRONX   \n",
              "4  ELMHURST      NaN      Precinct  Closed  01/01/2016 07:56:58 AM     QUEENS   \n",
              "\n",
              "   Y Coordinate (State Plane) Park Facility Name Park Borough   Latitude  \\\n",
              "0                    254678.0        Unspecified    MANHATTAN  40.865682   \n",
              "1                    221986.0        Unspecified       QUEENS  40.775945   \n",
              "2                    256380.0        Unspecified        BRONX  40.870325   \n",
              "3                    243899.0        Unspecified        BRONX  40.835994   \n",
              "4                    206375.0        Unspecified       QUEENS  40.733060   \n",
              "\n",
              "   Longitude                                  Location Request_Closing_Time  \n",
              "0 -73.923501   (40.86568153633767, -73.92350095571744)             00:55:30  \n",
              "1 -73.915094  (40.775945312321085, -73.91509393898605)             01:27:13  \n",
              "2 -73.888525  (40.870324522111424, -73.88852464418646)             04:51:34  \n",
              "3 -73.828379   (40.83599404683083, -73.82837939584206)             07:45:27  \n",
              "4 -73.874170  (40.733059618956815, -73.87416975810375)             03:27:44  "
            ]
          },
          "execution_count": 12,
          "metadata": {},
          "output_type": "execute_result"
        }
      ],
      "source": [
        "dataset.head()"
      ]
    },
    {
      "cell_type": "code",
      "execution_count": null,
      "metadata": {
        "id": "JMFItMd5LPVt",
        "outputId": "c67f40cc-a379-497c-d9bf-debd0d39ea59"
      },
      "outputs": [
        {
          "name": "stdout",
          "output_type": "stream",
          "text": [
            "<class 'pandas.core.frame.DataFrame'>\n",
            "RangeIndex: 364558 entries, 0 to 364557\n",
            "Data columns (total 22 columns):\n",
            "Created Date                  364558 non-null datetime64[ns]\n",
            "Closed Date                   362177 non-null datetime64[ns]\n",
            "Agency                        364558 non-null object\n",
            "Agency Name                   364558 non-null object\n",
            "Complaint Type                364558 non-null object\n",
            "Descriptor                    358057 non-null object\n",
            "Location Type                 364425 non-null object\n",
            "Incident Zip                  361560 non-null float64\n",
            "Address Type                  361306 non-null object\n",
            "City                          361561 non-null object\n",
            "Landmark                      375 non-null object\n",
            "Facility Type                 362169 non-null object\n",
            "Status                        364558 non-null object\n",
            "Due Date                      364555 non-null object\n",
            "Borough                       364558 non-null object\n",
            "Y Coordinate (State Plane)    360528 non-null float64\n",
            "Park Facility Name            364558 non-null object\n",
            "Park Borough                  364558 non-null object\n",
            "Latitude                      360528 non-null float64\n",
            "Longitude                     360528 non-null float64\n",
            "Location                      360528 non-null object\n",
            "Request_Closing_Time          362177 non-null timedelta64[ns]\n",
            "dtypes: datetime64[ns](2), float64(4), object(15), timedelta64[ns](1)\n",
            "memory usage: 61.2+ MB\n"
          ]
        }
      ],
      "source": [
        "dataset.info()"
      ]
    },
    {
      "cell_type": "code",
      "execution_count": null,
      "metadata": {
        "colab": {
          "base_uri": "https://localhost:8080/"
        },
        "id": "kiDGQ2JnLPVu",
        "outputId": "8da66caa-20d1-4660-dc29-7aa3f19df95c"
      },
      "outputs": [
        {
          "output_type": "execute_result",
          "data": {
            "text/plain": [
              "Unique Key                             0\n",
              "Created Date                           0\n",
              "Closed Date                         2381\n",
              "Agency                                 0\n",
              "Agency Name                            0\n",
              "Complaint Type                         0\n",
              "Descriptor                          6501\n",
              "Location Type                        133\n",
              "Incident Zip                        2998\n",
              "Incident Address                   51699\n",
              "Street Name                        51699\n",
              "Cross Street 1                     57188\n",
              "Cross Street 2                     57805\n",
              "Intersection Street 1             313438\n",
              "Intersection Street 2             314046\n",
              "Address Type                        3252\n",
              "City                                2997\n",
              "Landmark                          364183\n",
              "Facility Type                       2389\n",
              "Status                                 0\n",
              "Due Date                               3\n",
              "Resolution Description                 0\n",
              "Resolution Action Updated Date      2402\n",
              "Community Board                        0\n",
              "Borough                                0\n",
              "X Coordinate (State Plane)          4030\n",
              "Y Coordinate (State Plane)          4030\n",
              "Park Facility Name                     0\n",
              "Park Borough                           0\n",
              "School Name                            0\n",
              "School Number                          0\n",
              "School Region                          1\n",
              "School Code                            1\n",
              "School Phone Number                    0\n",
              "School Address                         0\n",
              "School City                            0\n",
              "School State                           0\n",
              "School Zip                             1\n",
              "School Not Found                       0\n",
              "School or Citywide Complaint      364558\n",
              "Vehicle Type                      364558\n",
              "Taxi Company Borough              364558\n",
              "Taxi Pick Up Location             364558\n",
              "Bridge Highway Name               364261\n",
              "Bridge Highway Direction          364261\n",
              "Road Ramp                         364296\n",
              "Bridge Highway Segment            364296\n",
              "Garage Lot Name                   364558\n",
              "Ferry Direction                   364557\n",
              "Ferry Terminal Name               364556\n",
              "Latitude                            4030\n",
              "Longitude                           4030\n",
              "Location                            4030\n",
              "dtype: int64"
            ]
          },
          "metadata": {},
          "execution_count": 11
        }
      ],
      "source": [
        "dataset.isna().sum()"
      ]
    },
    {
      "cell_type": "code",
      "execution_count": null,
      "metadata": {
        "id": "rTFqnUbeLPVv"
      },
      "outputs": [],
      "source": [
        "#dropping created and closed date\n",
        "dataset.drop(['Closed Date','Created Date'],axis=1,inplace=True)\n"
      ]
    },
    {
      "cell_type": "code",
      "execution_count": null,
      "metadata": {
        "id": "HXI7wYNULPVv",
        "outputId": "e2f586cd-14b4-48c4-df93-dbc41e5442aa"
      },
      "outputs": [
        {
          "data": {
            "text/html": [
              "<div>\n",
              "<style scoped>\n",
              "    .dataframe tbody tr th:only-of-type {\n",
              "        vertical-align: middle;\n",
              "    }\n",
              "\n",
              "    .dataframe tbody tr th {\n",
              "        vertical-align: top;\n",
              "    }\n",
              "\n",
              "    .dataframe thead th {\n",
              "        text-align: right;\n",
              "    }\n",
              "</style>\n",
              "<table border=\"1\" class=\"dataframe\">\n",
              "  <thead>\n",
              "    <tr style=\"text-align: right;\">\n",
              "      <th></th>\n",
              "      <th>Agency</th>\n",
              "      <th>Agency Name</th>\n",
              "      <th>Complaint Type</th>\n",
              "      <th>Descriptor</th>\n",
              "      <th>Location Type</th>\n",
              "      <th>Incident Zip</th>\n",
              "      <th>Address Type</th>\n",
              "      <th>City</th>\n",
              "      <th>Landmark</th>\n",
              "      <th>Facility Type</th>\n",
              "      <th>Status</th>\n",
              "      <th>Due Date</th>\n",
              "      <th>Borough</th>\n",
              "      <th>Y Coordinate (State Plane)</th>\n",
              "      <th>Park Facility Name</th>\n",
              "      <th>Park Borough</th>\n",
              "      <th>Latitude</th>\n",
              "      <th>Longitude</th>\n",
              "      <th>Location</th>\n",
              "      <th>Request_Closing_Time</th>\n",
              "    </tr>\n",
              "  </thead>\n",
              "  <tbody>\n",
              "    <tr>\n",
              "      <th>0</th>\n",
              "      <td>NYPD</td>\n",
              "      <td>New York City Police Department</td>\n",
              "      <td>Noise - Street/Sidewalk</td>\n",
              "      <td>Loud Music/Party</td>\n",
              "      <td>Street/Sidewalk</td>\n",
              "      <td>10034.0</td>\n",
              "      <td>ADDRESS</td>\n",
              "      <td>NEW YORK</td>\n",
              "      <td>NaN</td>\n",
              "      <td>Precinct</td>\n",
              "      <td>Closed</td>\n",
              "      <td>01/01/2016 07:59:45 AM</td>\n",
              "      <td>MANHATTAN</td>\n",
              "      <td>254678.0</td>\n",
              "      <td>Unspecified</td>\n",
              "      <td>MANHATTAN</td>\n",
              "      <td>40.865682</td>\n",
              "      <td>-73.923501</td>\n",
              "      <td>(40.86568153633767, -73.92350095571744)</td>\n",
              "      <td>00:55:30</td>\n",
              "    </tr>\n",
              "    <tr>\n",
              "      <th>1</th>\n",
              "      <td>NYPD</td>\n",
              "      <td>New York City Police Department</td>\n",
              "      <td>Blocked Driveway</td>\n",
              "      <td>No Access</td>\n",
              "      <td>Street/Sidewalk</td>\n",
              "      <td>11105.0</td>\n",
              "      <td>ADDRESS</td>\n",
              "      <td>ASTORIA</td>\n",
              "      <td>NaN</td>\n",
              "      <td>Precinct</td>\n",
              "      <td>Closed</td>\n",
              "      <td>01/01/2016 07:59:44 AM</td>\n",
              "      <td>QUEENS</td>\n",
              "      <td>221986.0</td>\n",
              "      <td>Unspecified</td>\n",
              "      <td>QUEENS</td>\n",
              "      <td>40.775945</td>\n",
              "      <td>-73.915094</td>\n",
              "      <td>(40.775945312321085, -73.91509393898605)</td>\n",
              "      <td>01:27:13</td>\n",
              "    </tr>\n",
              "    <tr>\n",
              "      <th>2</th>\n",
              "      <td>NYPD</td>\n",
              "      <td>New York City Police Department</td>\n",
              "      <td>Blocked Driveway</td>\n",
              "      <td>No Access</td>\n",
              "      <td>Street/Sidewalk</td>\n",
              "      <td>10458.0</td>\n",
              "      <td>ADDRESS</td>\n",
              "      <td>BRONX</td>\n",
              "      <td>NaN</td>\n",
              "      <td>Precinct</td>\n",
              "      <td>Closed</td>\n",
              "      <td>01/01/2016 07:59:29 AM</td>\n",
              "      <td>BRONX</td>\n",
              "      <td>256380.0</td>\n",
              "      <td>Unspecified</td>\n",
              "      <td>BRONX</td>\n",
              "      <td>40.870325</td>\n",
              "      <td>-73.888525</td>\n",
              "      <td>(40.870324522111424, -73.88852464418646)</td>\n",
              "      <td>04:51:34</td>\n",
              "    </tr>\n",
              "    <tr>\n",
              "      <th>3</th>\n",
              "      <td>NYPD</td>\n",
              "      <td>New York City Police Department</td>\n",
              "      <td>Illegal Parking</td>\n",
              "      <td>Commercial Overnight Parking</td>\n",
              "      <td>Street/Sidewalk</td>\n",
              "      <td>10461.0</td>\n",
              "      <td>ADDRESS</td>\n",
              "      <td>BRONX</td>\n",
              "      <td>NaN</td>\n",
              "      <td>Precinct</td>\n",
              "      <td>Closed</td>\n",
              "      <td>01/01/2016 07:57:46 AM</td>\n",
              "      <td>BRONX</td>\n",
              "      <td>243899.0</td>\n",
              "      <td>Unspecified</td>\n",
              "      <td>BRONX</td>\n",
              "      <td>40.835994</td>\n",
              "      <td>-73.828379</td>\n",
              "      <td>(40.83599404683083, -73.82837939584206)</td>\n",
              "      <td>07:45:27</td>\n",
              "    </tr>\n",
              "    <tr>\n",
              "      <th>4</th>\n",
              "      <td>NYPD</td>\n",
              "      <td>New York City Police Department</td>\n",
              "      <td>Illegal Parking</td>\n",
              "      <td>Blocked Sidewalk</td>\n",
              "      <td>Street/Sidewalk</td>\n",
              "      <td>11373.0</td>\n",
              "      <td>ADDRESS</td>\n",
              "      <td>ELMHURST</td>\n",
              "      <td>NaN</td>\n",
              "      <td>Precinct</td>\n",
              "      <td>Closed</td>\n",
              "      <td>01/01/2016 07:56:58 AM</td>\n",
              "      <td>QUEENS</td>\n",
              "      <td>206375.0</td>\n",
              "      <td>Unspecified</td>\n",
              "      <td>QUEENS</td>\n",
              "      <td>40.733060</td>\n",
              "      <td>-73.874170</td>\n",
              "      <td>(40.733059618956815, -73.87416975810375)</td>\n",
              "      <td>03:27:44</td>\n",
              "    </tr>\n",
              "  </tbody>\n",
              "</table>\n",
              "</div>"
            ],
            "text/plain": [
              "  Agency                      Agency Name           Complaint Type  \\\n",
              "0   NYPD  New York City Police Department  Noise - Street/Sidewalk   \n",
              "1   NYPD  New York City Police Department         Blocked Driveway   \n",
              "2   NYPD  New York City Police Department         Blocked Driveway   \n",
              "3   NYPD  New York City Police Department          Illegal Parking   \n",
              "4   NYPD  New York City Police Department          Illegal Parking   \n",
              "\n",
              "                     Descriptor    Location Type  Incident Zip Address Type  \\\n",
              "0              Loud Music/Party  Street/Sidewalk       10034.0      ADDRESS   \n",
              "1                     No Access  Street/Sidewalk       11105.0      ADDRESS   \n",
              "2                     No Access  Street/Sidewalk       10458.0      ADDRESS   \n",
              "3  Commercial Overnight Parking  Street/Sidewalk       10461.0      ADDRESS   \n",
              "4              Blocked Sidewalk  Street/Sidewalk       11373.0      ADDRESS   \n",
              "\n",
              "       City Landmark Facility Type  Status                Due Date    Borough  \\\n",
              "0  NEW YORK      NaN      Precinct  Closed  01/01/2016 07:59:45 AM  MANHATTAN   \n",
              "1   ASTORIA      NaN      Precinct  Closed  01/01/2016 07:59:44 AM     QUEENS   \n",
              "2     BRONX      NaN      Precinct  Closed  01/01/2016 07:59:29 AM      BRONX   \n",
              "3     BRONX      NaN      Precinct  Closed  01/01/2016 07:57:46 AM      BRONX   \n",
              "4  ELMHURST      NaN      Precinct  Closed  01/01/2016 07:56:58 AM     QUEENS   \n",
              "\n",
              "   Y Coordinate (State Plane) Park Facility Name Park Borough   Latitude  \\\n",
              "0                    254678.0        Unspecified    MANHATTAN  40.865682   \n",
              "1                    221986.0        Unspecified       QUEENS  40.775945   \n",
              "2                    256380.0        Unspecified        BRONX  40.870325   \n",
              "3                    243899.0        Unspecified        BRONX  40.835994   \n",
              "4                    206375.0        Unspecified       QUEENS  40.733060   \n",
              "\n",
              "   Longitude                                  Location Request_Closing_Time  \n",
              "0 -73.923501   (40.86568153633767, -73.92350095571744)             00:55:30  \n",
              "1 -73.915094  (40.775945312321085, -73.91509393898605)             01:27:13  \n",
              "2 -73.888525  (40.870324522111424, -73.88852464418646)             04:51:34  \n",
              "3 -73.828379   (40.83599404683083, -73.82837939584206)             07:45:27  \n",
              "4 -73.874170  (40.733059618956815, -73.87416975810375)             03:27:44  "
            ]
          },
          "execution_count": 16,
          "metadata": {},
          "output_type": "execute_result"
        }
      ],
      "source": [
        "dataset.head(5)"
      ]
    },
    {
      "cell_type": "code",
      "execution_count": null,
      "metadata": {
        "id": "zFFMS6biLPVw",
        "outputId": "f155c407-c9f2-4b58-9e18-79291b3729be"
      },
      "outputs": [
        {
          "data": {
            "text/plain": [
              "Agency                             0\n",
              "Agency Name                        0\n",
              "Complaint Type                     0\n",
              "Descriptor                      6501\n",
              "Location Type                    133\n",
              "Incident Zip                    2998\n",
              "Address Type                    3252\n",
              "City                            2997\n",
              "Landmark                      364183\n",
              "Facility Type                   2389\n",
              "Status                             0\n",
              "Due Date                           3\n",
              "Borough                            0\n",
              "Y Coordinate (State Plane)      4030\n",
              "Park Facility Name                 0\n",
              "Park Borough                       0\n",
              "Latitude                        4030\n",
              "Longitude                       4030\n",
              "Location                        4030\n",
              "Request_Closing_Time            2381\n",
              "dtype: int64"
            ]
          },
          "execution_count": 17,
          "metadata": {},
          "output_type": "execute_result"
        }
      ],
      "source": [
        "#dealing with missing values\n",
        "dataset.isna().sum()"
      ]
    },
    {
      "cell_type": "code",
      "execution_count": null,
      "metadata": {
        "id": "FE-pBrOALPVy",
        "outputId": "9fe317aa-3f57-4c2f-dc0a-258e691a11e3"
      },
      "outputs": [
        {
          "data": {
            "text/plain": [
              "NYPD    364558\n",
              "Name: Agency, dtype: int64"
            ]
          },
          "execution_count": 18,
          "metadata": {},
          "output_type": "execute_result"
        },
        {
          "data": {
            "text/plain": [
              "New York City Police Department    364548\n",
              "Internal Affairs Bureau                 8\n",
              "NYPD                                    2\n",
              "Name: Agency Name, dtype: int64"
            ]
          },
          "execution_count": 18,
          "metadata": {},
          "output_type": "execute_result"
        },
        {
          "data": {
            "text/plain": [
              "<matplotlib.axes._subplots.AxesSubplot at 0x7f9ac917a400>"
            ]
          },
          "execution_count": 18,
          "metadata": {},
          "output_type": "execute_result"
        },
        {
          "data": {
            "image/png": "[encoded data removed]",
            "text/plain": [
              "<Figure size 432x288 with 1 Axes>"
            ]
          },
          "metadata": {},
          "output_type": "display_data"
        }
      ],
      "source": [
        "dataset['Agency'].value_counts()\n",
        "dataset['Agency Name'].value_counts()\n",
        "sns.countplot(dataset['Agency Name'])"
      ]
    },
    {
      "cell_type": "code",
      "execution_count": null,
      "metadata": {
        "id": "WYvQfDfpLPVz",
        "outputId": "93385d57-7a41-413f-db5a-c63c66014702"
      },
      "outputs": [
        {
          "data": {
            "text/plain": [
              "Blocked Driveway           100881\n",
              "Illegal Parking             92679\n",
              "Noise - Street/Sidewalk     51692\n",
              "Noise - Commercial          44109\n",
              "Derelict Vehicle            21661\n",
              "Name: Complaint Type, dtype: int64"
            ]
          },
          "execution_count": 19,
          "metadata": {},
          "output_type": "execute_result"
        },
        {
          "data": {
            "text/plain": [
              "[Text(0, 0, 'Noise - Street/Sidewalk'),\n",
              " Text(0, 0, 'Blocked Driveway'),\n",
              " Text(0, 0, 'Illegal Parking'),\n",
              " Text(0, 0, 'Derelict Vehicle'),\n",
              " Text(0, 0, 'Noise - Commercial'),\n",
              " Text(0, 0, 'Noise - House of Worship'),\n",
              " Text(0, 0, 'Posting Advertisement'),\n",
              " Text(0, 0, 'Noise - Vehicle'),\n",
              " Text(0, 0, 'Animal Abuse'),\n",
              " Text(0, 0, 'Vending'),\n",
              " Text(0, 0, 'Traffic'),\n",
              " Text(0, 0, 'Drinking'),\n",
              " Text(0, 0, 'Bike/Roller/Skate Chronic'),\n",
              " Text(0, 0, 'Panhandling'),\n",
              " Text(0, 0, 'Noise - Park'),\n",
              " Text(0, 0, 'Homeless Encampment'),\n",
              " Text(0, 0, 'Urinating in Public'),\n",
              " Text(0, 0, 'Graffiti'),\n",
              " Text(0, 0, 'Disorderly Youth'),\n",
              " Text(0, 0, 'Illegal Fireworks'),\n",
              " Text(0, 0, 'Ferry Complaint'),\n",
              " Text(0, 0, 'Agency Issues'),\n",
              " Text(0, 0, 'Squeegee'),\n",
              " Text(0, 0, 'Animal in a Park')]"
            ]
          },
          "execution_count": 19,
          "metadata": {},
          "output_type": "execute_result"
        },
        {
          "data": {
            "image/png": "[encoded data removed]",
            "text/plain": [
              "<Figure size 432x288 with 1 Axes>"
            ]
          },
          "metadata": {},
          "output_type": "display_data"
        }
      ],
      "source": [
        "dataset['Complaint Type'].value_counts().head()\n",
        "plot=sns.countplot(dataset['Complaint Type'])\n",
        "plot.set_xticklabels(plot.get_xticklabels(),rotation=90)"
      ]
    },
    {
      "cell_type": "code",
      "execution_count": null,
      "metadata": {
        "id": "tot2N5DXLPVz",
        "outputId": "9f854998-823d-4857-f3dd-baa3f360ca13"
      },
      "outputs": [
        {
          "data": {
            "text/plain": [
              "6501"
            ]
          },
          "execution_count": 20,
          "metadata": {},
          "output_type": "execute_result"
        }
      ],
      "source": [
        "dataset['Descriptor'].isna().sum()"
      ]
    },
    {
      "cell_type": "code",
      "execution_count": null,
      "metadata": {
        "id": "RBzz0oTiLPV0",
        "outputId": "4a93bd78-f7fc-4254-c897-6a88356564a2"
      },
      "outputs": [
        {
          "data": {
            "text/plain": [
              "count        358057\n",
              "unique           45\n",
              "top       No Access\n",
              "freq          75888\n",
              "Name: Descriptor, dtype: object"
            ]
          },
          "execution_count": 21,
          "metadata": {},
          "output_type": "execute_result"
        }
      ],
      "source": [
        "dataset['Descriptor'].describe()"
      ]
    },
    {
      "cell_type": "code",
      "execution_count": null,
      "metadata": {
        "id": "dDzPRmQnLPV0",
        "outputId": "fea6ad1a-6fcd-41a0-a17b-2f2859bdc6fa"
      },
      "outputs": [
        {
          "data": {
            "text/plain": [
              "No Access                        75888\n",
              "Loud Music/Party                 69708\n",
              "Posted Parking Sign Violation    27200\n",
              "Partial Access                   24993\n",
              "Loud Talking                     23810\n",
              "Name: Descriptor, dtype: int64"
            ]
          },
          "execution_count": 22,
          "metadata": {},
          "output_type": "execute_result"
        }
      ],
      "source": [
        "dataset['Descriptor'].value_counts().head(5)"
      ]
    },
    {
      "cell_type": "code",
      "execution_count": null,
      "metadata": {
        "id": "Ax_hynTRLPV1",
        "outputId": "77ee07b0-c8be-4a39-8759-00df8630ac3b"
      },
      "outputs": [
        {
          "data": {
            "text/plain": [
              "[Text(0, 0, 'Noise - Street/Sidewalk'),\n",
              " Text(0, 0, 'Blocked Driveway'),\n",
              " Text(0, 0, 'Illegal Parking'),\n",
              " Text(0, 0, 'Derelict Vehicle'),\n",
              " Text(0, 0, 'Noise - Commercial'),\n",
              " Text(0, 0, 'Noise - House of Worship'),\n",
              " Text(0, 0, 'Posting Advertisement'),\n",
              " Text(0, 0, 'Noise - Vehicle'),\n",
              " Text(0, 0, 'Animal Abuse'),\n",
              " Text(0, 0, 'Vending'),\n",
              " Text(0, 0, 'Traffic'),\n",
              " Text(0, 0, 'Drinking'),\n",
              " Text(0, 0, 'Bike/Roller/Skate Chronic'),\n",
              " Text(0, 0, 'Panhandling'),\n",
              " Text(0, 0, 'Noise - Park'),\n",
              " Text(0, 0, 'Homeless Encampment'),\n",
              " Text(0, 0, 'Urinating in Public'),\n",
              " Text(0, 0, 'Graffiti'),\n",
              " Text(0, 0, 'Disorderly Youth'),\n",
              " Text(0, 0, 'Illegal Fireworks'),\n",
              " Text(0, 0, 'Ferry Complaint'),\n",
              " Text(0, 0, 'Agency Issues'),\n",
              " Text(0, 0, 'Squeegee'),\n",
              " Text(0, 0, 'Animal in a Park')]"
            ]
          },
          "execution_count": 23,
          "metadata": {},
          "output_type": "execute_result"
        },
        {
          "data": {
            "image/png": "[encoded data removed]",
            "text/plain": [
              "<Figure size 432x288 with 1 Axes>"
            ]
          },
          "metadata": {},
          "output_type": "display_data"
        }
      ],
      "source": [
        "plot2=sns.countplot(dataset['Descriptor'])\n",
        "plot2.set_xticklabels(plot.get_xticklabels(),rotation=90)"
      ]
    },
    {
      "cell_type": "code",
      "execution_count": null,
      "metadata": {
        "id": "vwSLj6eCLPV2",
        "outputId": "e574d121-4fda-4d83-fd47-94b5119a3507"
      },
      "outputs": [
        {
          "data": {
            "text/plain": [
              "133"
            ]
          },
          "execution_count": 24,
          "metadata": {},
          "output_type": "execute_result"
        }
      ],
      "source": [
        "dataset['Location Type'].isna().sum()"
      ]
    },
    {
      "cell_type": "code",
      "execution_count": null,
      "metadata": {
        "id": "rMYOJLRHLPV2",
        "outputId": "c73307fa-a657-471f-89c3-843c89b135cb"
      },
      "outputs": [
        {
          "data": {
            "text/plain": [
              "Street/Sidewalk               301372\n",
              "Store/Commercial               25217\n",
              "Club/Bar/Restaurant            21527\n",
              "Residential Building/House      8869\n",
              "Park/Playground                 4871\n",
              "Name: Location Type, dtype: int64"
            ]
          },
          "execution_count": 25,
          "metadata": {},
          "output_type": "execute_result"
        }
      ],
      "source": [
        "dataset['Location Type'].value_counts().head()"
      ]
    },
    {
      "cell_type": "code",
      "execution_count": null,
      "metadata": {
        "id": "-s7BQBv4LPV2",
        "outputId": "9b6aa0be-54be-41e1-fbbf-22123583444d"
      },
      "outputs": [
        {
          "data": {
            "text/plain": [
              "[Text(0, 0, 'Street/Sidewalk'),\n",
              " Text(0, 0, 'Club/Bar/Restaurant'),\n",
              " Text(0, 0, 'Store/Commercial'),\n",
              " Text(0, 0, 'House of Worship'),\n",
              " Text(0, 0, 'Residential Building/House'),\n",
              " Text(0, 0, 'Residential Building'),\n",
              " Text(0, 0, 'Park/Playground'),\n",
              " Text(0, 0, 'Vacant Lot'),\n",
              " Text(0, 0, 'House and Store'),\n",
              " Text(0, 0, 'Highway'),\n",
              " Text(0, 0, 'Commercial'),\n",
              " Text(0, 0, 'Roadway Tunnel'),\n",
              " Text(0, 0, 'Subway Station'),\n",
              " Text(0, 0, 'Parking Lot'),\n",
              " Text(0, 0, 'Bridge'),\n",
              " Text(0, 0, 'Terminal'),\n",
              " Text(0, 0, 'Ferry'),\n",
              " Text(0, 0, 'Park')]"
            ]
          },
          "execution_count": 26,
          "metadata": {},
          "output_type": "execute_result"
        },
        {
          "data": {
            "image/png": "[encoded data removed]",
            "text/plain": [
              "<Figure size 432x288 with 1 Axes>"
            ]
          },
          "metadata": {},
          "output_type": "display_data"
        }
      ],
      "source": [
        "dataset['Location Type'].fillna(value='Street/Sidewalk',inplace =True)\n",
        "plot3=sns.countplot(dataset['Location Type'])\n",
        "plot3.set_xticklabels(plot3.get_xticklabels(),rotation=90)"
      ]
    },
    {
      "cell_type": "code",
      "execution_count": null,
      "metadata": {
        "id": "N1SSwDynLPV3",
        "outputId": "c7c2373e-4468-4621-d8ff-838576ee5462"
      },
      "outputs": [
        {
          "data": {
            "text/plain": [
              "11385.0    6396\n",
              "11368.0    5384\n",
              "11234.0    5199\n",
              "11211.0    4854\n",
              "11377.0    4525\n",
              "Name: Incident Zip, dtype: int64"
            ]
          },
          "execution_count": 27,
          "metadata": {},
          "output_type": "execute_result"
        },
        {
          "data": {
            "text/plain": [
              "2998"
            ]
          },
          "execution_count": 27,
          "metadata": {},
          "output_type": "execute_result"
        }
      ],
      "source": [
        "dataset['Incident Zip'].value_counts().head()\n",
        "dataset['Incident Zip'].isna().sum()\n",
        "dataset['Incident Zip'].fillna(value=11385,inplace=True)"
      ]
    },
    {
      "cell_type": "code",
      "execution_count": null,
      "metadata": {
        "id": "Gdv_oDG3LPV3",
        "outputId": "977bbc2b-388a-415d-f582-fea57181068e"
      },
      "outputs": [
        {
          "data": {
            "text/plain": [
              "ADDRESS         292699\n",
              "INTERSECTION     50514\n",
              "BLOCKFACE        13786\n",
              "LATLONG           3931\n",
              "PLACENAME          376\n",
              "Name: Address Type, dtype: int64"
            ]
          },
          "execution_count": 28,
          "metadata": {},
          "output_type": "execute_result"
        },
        {
          "data": {
            "text/plain": [
              "<matplotlib.axes._subplots.AxesSubplot at 0x7f9ad6d1ed68>"
            ]
          },
          "execution_count": 28,
          "metadata": {},
          "output_type": "execute_result"
        },
        {
          "data": {
            "image/png": "[encoded data removed]",
            "text/plain": [
              "<Figure size 432x288 with 1 Axes>"
            ]
          },
          "metadata": {},
          "output_type": "display_data"
        }
      ],
      "source": [
        "dataset['Address Type'].value_counts()\n",
        "dataset['Address Type'].fillna(value='Address',inplace=True)\n",
        "sns.countplot(dataset['Address Type'])"
      ]
    },
    {
      "cell_type": "code",
      "execution_count": null,
      "metadata": {
        "id": "4Hx9oxUjLPV4"
      },
      "outputs": [],
      "source": [
        "dataset.drop(['Latitude', 'Longitude','Location','Y Coordinate (State Plane)','Landmark'],axis=1,inplace=True)"
      ]
    },
    {
      "cell_type": "code",
      "execution_count": null,
      "metadata": {
        "id": "zfQu_3ijLPV4",
        "outputId": "25a7553f-3e12-48a9-f0e6-e8c062a5a38d"
      },
      "outputs": [
        {
          "data": {
            "text/plain": [
              "Agency                     0\n",
              "Agency Name                0\n",
              "Complaint Type             0\n",
              "Descriptor              6501\n",
              "Location Type              0\n",
              "Incident Zip               0\n",
              "Address Type               0\n",
              "City                    2997\n",
              "Facility Type           2389\n",
              "Status                     0\n",
              "Due Date                   3\n",
              "Borough                    0\n",
              "Park Facility Name         0\n",
              "Park Borough               0\n",
              "Request_Closing_Time    2381\n",
              "dtype: int64"
            ]
          },
          "execution_count": 30,
          "metadata": {},
          "output_type": "execute_result"
        }
      ],
      "source": [
        "dataset.isna().sum()"
      ]
    },
    {
      "cell_type": "code",
      "execution_count": null,
      "metadata": {
        "id": "mNtNCDhDLPV4",
        "outputId": "54cd951d-29e5-4179-d6cd-784f9ccda63a"
      },
      "outputs": [
        {
          "data": {
            "text/plain": [
              "BROOKLYN         118862\n",
              "NEW YORK          77312\n",
              "BRONX             49171\n",
              "STATEN ISLAND     15340\n",
              "JAMAICA            8932\n",
              "Name: City, dtype: int64"
            ]
          },
          "execution_count": 31,
          "metadata": {},
          "output_type": "execute_result"
        },
        {
          "data": {
            "text/plain": [
              "Precinct    362169\n",
              "Name: Facility Type, dtype: int64"
            ]
          },
          "execution_count": 31,
          "metadata": {},
          "output_type": "execute_result"
        }
      ],
      "source": [
        "dataset['City'].value_counts().head()\n",
        "dataset['Facility Type'].value_counts().head()"
      ]
    },
    {
      "cell_type": "code",
      "execution_count": null,
      "metadata": {
        "id": "SeVLWh88LPV5",
        "outputId": "76aa431d-e342-42c4-bd1c-0c58da400916"
      },
      "outputs": [
        {
          "data": {
            "text/plain": [
              "BROOKLYN         121859\n",
              "NEW YORK          77312\n",
              "BRONX             49171\n",
              "STATEN ISLAND     15340\n",
              "JAMAICA            8932\n",
              "Name: City, dtype: int64"
            ]
          },
          "execution_count": 32,
          "metadata": {},
          "output_type": "execute_result"
        },
        {
          "data": {
            "text/plain": [
              "[Text(0, 0, 'Noise - Street/Sidewalk'),\n",
              " Text(0, 0, 'Blocked Driveway'),\n",
              " Text(0, 0, 'Illegal Parking'),\n",
              " Text(0, 0, 'Derelict Vehicle'),\n",
              " Text(0, 0, 'Noise - Commercial'),\n",
              " Text(0, 0, 'Noise - House of Worship'),\n",
              " Text(0, 0, 'Posting Advertisement'),\n",
              " Text(0, 0, 'Noise - Vehicle'),\n",
              " Text(0, 0, 'Animal Abuse'),\n",
              " Text(0, 0, 'Vending'),\n",
              " Text(0, 0, 'Traffic'),\n",
              " Text(0, 0, 'Drinking'),\n",
              " Text(0, 0, 'Bike/Roller/Skate Chronic'),\n",
              " Text(0, 0, 'Panhandling'),\n",
              " Text(0, 0, 'Noise - Park'),\n",
              " Text(0, 0, 'Homeless Encampment'),\n",
              " Text(0, 0, 'Urinating in Public'),\n",
              " Text(0, 0, 'Graffiti'),\n",
              " Text(0, 0, 'Disorderly Youth'),\n",
              " Text(0, 0, 'Illegal Fireworks'),\n",
              " Text(0, 0, 'Ferry Complaint'),\n",
              " Text(0, 0, 'Agency Issues'),\n",
              " Text(0, 0, 'Squeegee'),\n",
              " Text(0, 0, 'Animal in a Park')]"
            ]
          },
          "execution_count": 32,
          "metadata": {},
          "output_type": "execute_result"
        },
        {
          "data": {
            "image/png": "[encoded data removed]",
            "text/plain": [
              "<Figure size 432x288 with 1 Axes>"
            ]
          },
          "metadata": {},
          "output_type": "display_data"
        }
      ],
      "source": [
        "dataset['City'].fillna(value='BROOKLYN',inplace=True)\n",
        "dataset['City'].value_counts().head()\n",
        "plot4=sns.countplot(x=dataset['City'])\n",
        "plot4.set_xticklabels(plot.get_xticklabels(),rotation=90)"
      ]
    },
    {
      "cell_type": "code",
      "execution_count": null,
      "metadata": {
        "id": "M51mfTxZLPV6",
        "outputId": "ab2b2fc5-1d71-49e4-b7c3-14a637fcc28c"
      },
      "outputs": [
        {
          "data": {
            "text/plain": [
              "Agency                     0\n",
              "Agency Name                0\n",
              "Complaint Type             0\n",
              "Descriptor              6501\n",
              "Location Type              0\n",
              "Incident Zip               0\n",
              "Address Type               0\n",
              "City                       0\n",
              "Facility Type           2389\n",
              "Status                     0\n",
              "Due Date                   3\n",
              "Borough                    0\n",
              "Park Facility Name         0\n",
              "Park Borough               0\n",
              "Request_Closing_Time    2381\n",
              "dtype: int64"
            ]
          },
          "execution_count": 33,
          "metadata": {},
          "output_type": "execute_result"
        }
      ],
      "source": [
        "dataset.isna().sum()"
      ]
    },
    {
      "cell_type": "code",
      "execution_count": null,
      "metadata": {
        "id": "zYUV1V-3LPV7",
        "outputId": "001facd9-8466-4120-c9f0-da90a2ad4038"
      },
      "outputs": [
        {
          "data": {
            "text/plain": [
              "0   00:55:30\n",
              "1   01:27:13\n",
              "2   04:51:34\n",
              "3   07:45:27\n",
              "4   03:27:44\n",
              "Name: Request_Closing_Time, dtype: timedelta64[ns]"
            ]
          },
          "execution_count": 34,
          "metadata": {},
          "output_type": "execute_result"
        }
      ],
      "source": [
        "dataset['Request_Closing_Time'].head()"
      ]
    },
    {
      "cell_type": "code",
      "execution_count": null,
      "metadata": {
        "id": "eChkxphBLPV8"
      },
      "outputs": [],
      "source": [
        "dataset['Request_Closing_Time'].fillna(value=dataset['Request_Closing_Time'].mean(),inplace=True)"
      ]
    },
    {
      "cell_type": "code",
      "execution_count": null,
      "metadata": {
        "id": "Lpq3SBNTLPV8",
        "outputId": "9d830708-6ef7-48f7-f948-04b7727eacba"
      },
      "outputs": [
        {
          "data": {
            "text/plain": [
              "0"
            ]
          },
          "execution_count": 36,
          "metadata": {},
          "output_type": "execute_result"
        }
      ],
      "source": [
        "dataset['Request_Closing_Time'].isna().sum()"
      ]
    },
    {
      "cell_type": "code",
      "execution_count": null,
      "metadata": {
        "id": "7EF-NREBLPV9",
        "outputId": "d943338c-cef6-4e0c-9d3d-92c0379f9f34"
      },
      "outputs": [
        {
          "data": {
            "text/plain": [
              "dtype('<m8[ns]')"
            ]
          },
          "execution_count": 37,
          "metadata": {},
          "output_type": "execute_result"
        }
      ],
      "source": [
        "dataset['Request_Closing_Time'].dtypes"
      ]
    },
    {
      "cell_type": "code",
      "execution_count": null,
      "metadata": {
        "id": "chMp0NKNLPV9",
        "outputId": "7ea47528-9b27-4833-89fe-011ce82786cb"
      },
      "outputs": [
        {
          "data": {
            "text/html": [
              "<div>\n",
              "<style scoped>\n",
              "    .dataframe tbody tr th:only-of-type {\n",
              "        vertical-align: middle;\n",
              "    }\n",
              "\n",
              "    .dataframe tbody tr th {\n",
              "        vertical-align: top;\n",
              "    }\n",
              "\n",
              "    .dataframe thead th {\n",
              "        text-align: right;\n",
              "    }\n",
              "</style>\n",
              "<table border=\"1\" class=\"dataframe\">\n",
              "  <thead>\n",
              "    <tr style=\"text-align: right;\">\n",
              "      <th></th>\n",
              "      <th>Agency</th>\n",
              "      <th>Agency Name</th>\n",
              "      <th>Complaint Type</th>\n",
              "      <th>Descriptor</th>\n",
              "      <th>Location Type</th>\n",
              "      <th>Incident Zip</th>\n",
              "      <th>Address Type</th>\n",
              "      <th>City</th>\n",
              "      <th>Facility Type</th>\n",
              "      <th>Status</th>\n",
              "      <th>Due Date</th>\n",
              "      <th>Borough</th>\n",
              "      <th>Park Facility Name</th>\n",
              "      <th>Park Borough</th>\n",
              "      <th>Request_Closing_Time</th>\n",
              "    </tr>\n",
              "  </thead>\n",
              "  <tbody>\n",
              "    <tr>\n",
              "      <th>0</th>\n",
              "      <td>NYPD</td>\n",
              "      <td>New York City Police Department</td>\n",
              "      <td>Noise - Street/Sidewalk</td>\n",
              "      <td>Loud Music/Party</td>\n",
              "      <td>Street/Sidewalk</td>\n",
              "      <td>10034.0</td>\n",
              "      <td>ADDRESS</td>\n",
              "      <td>NEW YORK</td>\n",
              "      <td>Precinct</td>\n",
              "      <td>Closed</td>\n",
              "      <td>01/01/2016 07:59:45 AM</td>\n",
              "      <td>MANHATTAN</td>\n",
              "      <td>Unspecified</td>\n",
              "      <td>MANHATTAN</td>\n",
              "      <td>00:55:30</td>\n",
              "    </tr>\n",
              "    <tr>\n",
              "      <th>1</th>\n",
              "      <td>NYPD</td>\n",
              "      <td>New York City Police Department</td>\n",
              "      <td>Blocked Driveway</td>\n",
              "      <td>No Access</td>\n",
              "      <td>Street/Sidewalk</td>\n",
              "      <td>11105.0</td>\n",
              "      <td>ADDRESS</td>\n",
              "      <td>ASTORIA</td>\n",
              "      <td>Precinct</td>\n",
              "      <td>Closed</td>\n",
              "      <td>01/01/2016 07:59:44 AM</td>\n",
              "      <td>QUEENS</td>\n",
              "      <td>Unspecified</td>\n",
              "      <td>QUEENS</td>\n",
              "      <td>01:27:13</td>\n",
              "    </tr>\n",
              "    <tr>\n",
              "      <th>2</th>\n",
              "      <td>NYPD</td>\n",
              "      <td>New York City Police Department</td>\n",
              "      <td>Blocked Driveway</td>\n",
              "      <td>No Access</td>\n",
              "      <td>Street/Sidewalk</td>\n",
              "      <td>10458.0</td>\n",
              "      <td>ADDRESS</td>\n",
              "      <td>BRONX</td>\n",
              "      <td>Precinct</td>\n",
              "      <td>Closed</td>\n",
              "      <td>01/01/2016 07:59:29 AM</td>\n",
              "      <td>BRONX</td>\n",
              "      <td>Unspecified</td>\n",
              "      <td>BRONX</td>\n",
              "      <td>04:51:34</td>\n",
              "    </tr>\n",
              "    <tr>\n",
              "      <th>3</th>\n",
              "      <td>NYPD</td>\n",
              "      <td>New York City Police Department</td>\n",
              "      <td>Illegal Parking</td>\n",
              "      <td>Commercial Overnight Parking</td>\n",
              "      <td>Street/Sidewalk</td>\n",
              "      <td>10461.0</td>\n",
              "      <td>ADDRESS</td>\n",
              "      <td>BRONX</td>\n",
              "      <td>Precinct</td>\n",
              "      <td>Closed</td>\n",
              "      <td>01/01/2016 07:57:46 AM</td>\n",
              "      <td>BRONX</td>\n",
              "      <td>Unspecified</td>\n",
              "      <td>BRONX</td>\n",
              "      <td>07:45:27</td>\n",
              "    </tr>\n",
              "    <tr>\n",
              "      <th>4</th>\n",
              "      <td>NYPD</td>\n",
              "      <td>New York City Police Department</td>\n",
              "      <td>Illegal Parking</td>\n",
              "      <td>Blocked Sidewalk</td>\n",
              "      <td>Street/Sidewalk</td>\n",
              "      <td>11373.0</td>\n",
              "      <td>ADDRESS</td>\n",
              "      <td>ELMHURST</td>\n",
              "      <td>Precinct</td>\n",
              "      <td>Closed</td>\n",
              "      <td>01/01/2016 07:56:58 AM</td>\n",
              "      <td>QUEENS</td>\n",
              "      <td>Unspecified</td>\n",
              "      <td>QUEENS</td>\n",
              "      <td>03:27:44</td>\n",
              "    </tr>\n",
              "    <tr>\n",
              "      <th>5</th>\n",
              "      <td>NYPD</td>\n",
              "      <td>New York City Police Department</td>\n",
              "      <td>Illegal Parking</td>\n",
              "      <td>Posted Parking Sign Violation</td>\n",
              "      <td>Street/Sidewalk</td>\n",
              "      <td>11215.0</td>\n",
              "      <td>ADDRESS</td>\n",
              "      <td>BROOKLYN</td>\n",
              "      <td>Precinct</td>\n",
              "      <td>Closed</td>\n",
              "      <td>01/01/2016 07:56:30 AM</td>\n",
              "      <td>BROOKLYN</td>\n",
              "      <td>Unspecified</td>\n",
              "      <td>BROOKLYN</td>\n",
              "      <td>01:53:41</td>\n",
              "    </tr>\n",
              "    <tr>\n",
              "      <th>6</th>\n",
              "      <td>NYPD</td>\n",
              "      <td>New York City Police Department</td>\n",
              "      <td>Illegal Parking</td>\n",
              "      <td>Blocked Hydrant</td>\n",
              "      <td>Street/Sidewalk</td>\n",
              "      <td>10032.0</td>\n",
              "      <td>ADDRESS</td>\n",
              "      <td>NEW YORK</td>\n",
              "      <td>Precinct</td>\n",
              "      <td>Closed</td>\n",
              "      <td>01/01/2016 07:55:32 AM</td>\n",
              "      <td>MANHATTAN</td>\n",
              "      <td>Unspecified</td>\n",
              "      <td>MANHATTAN</td>\n",
              "      <td>01:58:22</td>\n",
              "    </tr>\n",
              "    <tr>\n",
              "      <th>7</th>\n",
              "      <td>NYPD</td>\n",
              "      <td>New York City Police Department</td>\n",
              "      <td>Blocked Driveway</td>\n",
              "      <td>No Access</td>\n",
              "      <td>Street/Sidewalk</td>\n",
              "      <td>10457.0</td>\n",
              "      <td>ADDRESS</td>\n",
              "      <td>BRONX</td>\n",
              "      <td>Precinct</td>\n",
              "      <td>Closed</td>\n",
              "      <td>01/01/2016 07:54:05 AM</td>\n",
              "      <td>BRONX</td>\n",
              "      <td>Unspecified</td>\n",
              "      <td>BRONX</td>\n",
              "      <td>01:48:49</td>\n",
              "    </tr>\n",
              "    <tr>\n",
              "      <th>8</th>\n",
              "      <td>NYPD</td>\n",
              "      <td>New York City Police Department</td>\n",
              "      <td>Illegal Parking</td>\n",
              "      <td>Posted Parking Sign Violation</td>\n",
              "      <td>Street/Sidewalk</td>\n",
              "      <td>11415.0</td>\n",
              "      <td>ADDRESS</td>\n",
              "      <td>KEW GARDENS</td>\n",
              "      <td>Precinct</td>\n",
              "      <td>Closed</td>\n",
              "      <td>01/01/2016 07:53:58 AM</td>\n",
              "      <td>QUEENS</td>\n",
              "      <td>Unspecified</td>\n",
              "      <td>QUEENS</td>\n",
              "      <td>08:33:34</td>\n",
              "    </tr>\n",
              "    <tr>\n",
              "      <th>9</th>\n",
              "      <td>NYPD</td>\n",
              "      <td>New York City Police Department</td>\n",
              "      <td>Blocked Driveway</td>\n",
              "      <td>No Access</td>\n",
              "      <td>Street/Sidewalk</td>\n",
              "      <td>11219.0</td>\n",
              "      <td>ADDRESS</td>\n",
              "      <td>BROOKLYN</td>\n",
              "      <td>Precinct</td>\n",
              "      <td>Closed</td>\n",
              "      <td>01/01/2016 07:53:58 AM</td>\n",
              "      <td>BROOKLYN</td>\n",
              "      <td>Unspecified</td>\n",
              "      <td>BROOKLYN</td>\n",
              "      <td>01:23:42</td>\n",
              "    </tr>\n",
              "  </tbody>\n",
              "</table>\n",
              "</div>"
            ],
            "text/plain": [
              "  Agency                      Agency Name           Complaint Type  \\\n",
              "0   NYPD  New York City Police Department  Noise - Street/Sidewalk   \n",
              "1   NYPD  New York City Police Department         Blocked Driveway   \n",
              "2   NYPD  New York City Police Department         Blocked Driveway   \n",
              "3   NYPD  New York City Police Department          Illegal Parking   \n",
              "4   NYPD  New York City Police Department          Illegal Parking   \n",
              "5   NYPD  New York City Police Department          Illegal Parking   \n",
              "6   NYPD  New York City Police Department          Illegal Parking   \n",
              "7   NYPD  New York City Police Department         Blocked Driveway   \n",
              "8   NYPD  New York City Police Department          Illegal Parking   \n",
              "9   NYPD  New York City Police Department         Blocked Driveway   \n",
              "\n",
              "                      Descriptor    Location Type  Incident Zip Address Type  \\\n",
              "0               Loud Music/Party  Street/Sidewalk       10034.0      ADDRESS   \n",
              "1                      No Access  Street/Sidewalk       11105.0      ADDRESS   \n",
              "2                      No Access  Street/Sidewalk       10458.0      ADDRESS   \n",
              "3   Commercial Overnight Parking  Street/Sidewalk       10461.0      ADDRESS   \n",
              "4               Blocked Sidewalk  Street/Sidewalk       11373.0      ADDRESS   \n",
              "5  Posted Parking Sign Violation  Street/Sidewalk       11215.0      ADDRESS   \n",
              "6                Blocked Hydrant  Street/Sidewalk       10032.0      ADDRESS   \n",
              "7                      No Access  Street/Sidewalk       10457.0      ADDRESS   \n",
              "8  Posted Parking Sign Violation  Street/Sidewalk       11415.0      ADDRESS   \n",
              "9                      No Access  Street/Sidewalk       11219.0      ADDRESS   \n",
              "\n",
              "          City Facility Type  Status                Due Date    Borough  \\\n",
              "0     NEW YORK      Precinct  Closed  01/01/2016 07:59:45 AM  MANHATTAN   \n",
              "1      ASTORIA      Precinct  Closed  01/01/2016 07:59:44 AM     QUEENS   \n",
              "2        BRONX      Precinct  Closed  01/01/2016 07:59:29 AM      BRONX   \n",
              "3        BRONX      Precinct  Closed  01/01/2016 07:57:46 AM      BRONX   \n",
              "4     ELMHURST      Precinct  Closed  01/01/2016 07:56:58 AM     QUEENS   \n",
              "5     BROOKLYN      Precinct  Closed  01/01/2016 07:56:30 AM   BROOKLYN   \n",
              "6     NEW YORK      Precinct  Closed  01/01/2016 07:55:32 AM  MANHATTAN   \n",
              "7        BRONX      Precinct  Closed  01/01/2016 07:54:05 AM      BRONX   \n",
              "8  KEW GARDENS      Precinct  Closed  01/01/2016 07:53:58 AM     QUEENS   \n",
              "9     BROOKLYN      Precinct  Closed  01/01/2016 07:53:58 AM   BROOKLYN   \n",
              "\n",
              "  Park Facility Name Park Borough Request_Closing_Time  \n",
              "0        Unspecified    MANHATTAN             00:55:30  \n",
              "1        Unspecified       QUEENS             01:27:13  \n",
              "2        Unspecified        BRONX             04:51:34  \n",
              "3        Unspecified        BRONX             07:45:27  \n",
              "4        Unspecified       QUEENS             03:27:44  \n",
              "5        Unspecified     BROOKLYN             01:53:41  \n",
              "6        Unspecified    MANHATTAN             01:58:22  \n",
              "7        Unspecified        BRONX             01:48:49  \n",
              "8        Unspecified       QUEENS             08:33:34  \n",
              "9        Unspecified     BROOKLYN             01:23:42  "
            ]
          },
          "execution_count": 38,
          "metadata": {},
          "output_type": "execute_result"
        }
      ],
      "source": [
        "dataset.head(10)"
      ]
    },
    {
      "cell_type": "code",
      "execution_count": null,
      "metadata": {
        "id": "hgYn_ctnLPV-",
        "outputId": "857f44ec-0179-4703-be53-a20364596a05"
      },
      "outputs": [
        {
          "data": {
            "text/plain": [
              "Closed      362114\n",
              "Open          1640\n",
              "Assigned       802\n",
              "Draft            2\n",
              "Name: Status, dtype: int64"
            ]
          },
          "execution_count": 39,
          "metadata": {},
          "output_type": "execute_result"
        }
      ],
      "source": [
        "dataset['Status'].value_counts()"
      ]
    },
    {
      "cell_type": "code",
      "execution_count": null,
      "metadata": {
        "id": "bre8ZncyLPV-",
        "outputId": "c325db8f-4061-4ea4-ca18-973c89be34fd"
      },
      "outputs": [
        {
          "data": {
            "text/plain": [
              "<matplotlib.axes._subplots.AxesSubplot at 0x7f9ad6b5bb38>"
            ]
          },
          "execution_count": 40,
          "metadata": {},
          "output_type": "execute_result"
        },
        {
          "data": {
            "image/png": "[encoded data removed]",
            "text/plain": [
              "<Figure size 432x288 with 1 Axes>"
            ]
          },
          "metadata": {},
          "output_type": "display_data"
        }
      ],
      "source": [
        "sns.countplot(dataset['Status'])"
      ]
    },
    {
      "cell_type": "code",
      "execution_count": null,
      "metadata": {
        "id": "WR1J_FEeLPV-",
        "outputId": "92e1cda5-60b0-4fcc-9f8e-1621d8f05283"
      },
      "outputs": [
        {
          "data": {
            "text/plain": [
              "Blocked Driveway           100881\n",
              "Illegal Parking             92679\n",
              "Noise - Street/Sidewalk     51692\n",
              "Noise - Commercial          44109\n",
              "Derelict Vehicle            21661\n",
              "Noise - Vehicle             19352\n",
              "Name: Complaint Type, dtype: int64"
            ]
          },
          "execution_count": 41,
          "metadata": {},
          "output_type": "execute_result"
        }
      ],
      "source": [
        "#bivariate analysis\n",
        "#the most common complaint\n",
        "dataset['Complaint Type'].value_counts().head(6)"
      ]
    },
    {
      "cell_type": "code",
      "execution_count": null,
      "metadata": {
        "id": "5N9mBIqXLPV_",
        "outputId": "4516ef29-9b62-466b-9f90-1cc9c71aca22"
      },
      "outputs": [
        {
          "data": {
            "text/html": [
              "<div>\n",
              "<style scoped>\n",
              "    .dataframe tbody tr th:only-of-type {\n",
              "        vertical-align: middle;\n",
              "    }\n",
              "\n",
              "    .dataframe tbody tr th {\n",
              "        vertical-align: top;\n",
              "    }\n",
              "\n",
              "    .dataframe thead th {\n",
              "        text-align: right;\n",
              "    }\n",
              "</style>\n",
              "<table border=\"1\" class=\"dataframe\">\n",
              "  <thead>\n",
              "    <tr style=\"text-align: right;\">\n",
              "      <th></th>\n",
              "      <th>Agency</th>\n",
              "      <th>Agency Name</th>\n",
              "      <th>Complaint Type</th>\n",
              "      <th>Descriptor</th>\n",
              "      <th>Location Type</th>\n",
              "      <th>Incident Zip</th>\n",
              "      <th>Address Type</th>\n",
              "      <th>City</th>\n",
              "      <th>Facility Type</th>\n",
              "      <th>Status</th>\n",
              "      <th>Due Date</th>\n",
              "      <th>Borough</th>\n",
              "      <th>Park Facility Name</th>\n",
              "      <th>Park Borough</th>\n",
              "      <th>Request_Closing_Time</th>\n",
              "    </tr>\n",
              "  </thead>\n",
              "  <tbody>\n",
              "    <tr>\n",
              "      <th>0</th>\n",
              "      <td>NYPD</td>\n",
              "      <td>New York City Police Department</td>\n",
              "      <td>Noise - Street/Sidewalk</td>\n",
              "      <td>Loud Music/Party</td>\n",
              "      <td>Street/Sidewalk</td>\n",
              "      <td>10034.0</td>\n",
              "      <td>ADDRESS</td>\n",
              "      <td>NEW YORK</td>\n",
              "      <td>Precinct</td>\n",
              "      <td>Closed</td>\n",
              "      <td>01/01/2016 07:59:45 AM</td>\n",
              "      <td>MANHATTAN</td>\n",
              "      <td>Unspecified</td>\n",
              "      <td>MANHATTAN</td>\n",
              "      <td>00:55:30</td>\n",
              "    </tr>\n",
              "    <tr>\n",
              "      <th>1</th>\n",
              "      <td>NYPD</td>\n",
              "      <td>New York City Police Department</td>\n",
              "      <td>Blocked Driveway</td>\n",
              "      <td>No Access</td>\n",
              "      <td>Street/Sidewalk</td>\n",
              "      <td>11105.0</td>\n",
              "      <td>ADDRESS</td>\n",
              "      <td>ASTORIA</td>\n",
              "      <td>Precinct</td>\n",
              "      <td>Closed</td>\n",
              "      <td>01/01/2016 07:59:44 AM</td>\n",
              "      <td>QUEENS</td>\n",
              "      <td>Unspecified</td>\n",
              "      <td>QUEENS</td>\n",
              "      <td>01:27:13</td>\n",
              "    </tr>\n",
              "    <tr>\n",
              "      <th>2</th>\n",
              "      <td>NYPD</td>\n",
              "      <td>New York City Police Department</td>\n",
              "      <td>Blocked Driveway</td>\n",
              "      <td>No Access</td>\n",
              "      <td>Street/Sidewalk</td>\n",
              "      <td>10458.0</td>\n",
              "      <td>ADDRESS</td>\n",
              "      <td>BRONX</td>\n",
              "      <td>Precinct</td>\n",
              "      <td>Closed</td>\n",
              "      <td>01/01/2016 07:59:29 AM</td>\n",
              "      <td>BRONX</td>\n",
              "      <td>Unspecified</td>\n",
              "      <td>BRONX</td>\n",
              "      <td>04:51:34</td>\n",
              "    </tr>\n",
              "  </tbody>\n",
              "</table>\n",
              "</div>"
            ],
            "text/plain": [
              "  Agency                      Agency Name           Complaint Type  \\\n",
              "0   NYPD  New York City Police Department  Noise - Street/Sidewalk   \n",
              "1   NYPD  New York City Police Department         Blocked Driveway   \n",
              "2   NYPD  New York City Police Department         Blocked Driveway   \n",
              "\n",
              "         Descriptor    Location Type  Incident Zip Address Type      City  \\\n",
              "0  Loud Music/Party  Street/Sidewalk       10034.0      ADDRESS  NEW YORK   \n",
              "1         No Access  Street/Sidewalk       11105.0      ADDRESS   ASTORIA   \n",
              "2         No Access  Street/Sidewalk       10458.0      ADDRESS     BRONX   \n",
              "\n",
              "  Facility Type  Status                Due Date    Borough Park Facility Name  \\\n",
              "0      Precinct  Closed  01/01/2016 07:59:45 AM  MANHATTAN        Unspecified   \n",
              "1      Precinct  Closed  01/01/2016 07:59:44 AM     QUEENS        Unspecified   \n",
              "2      Precinct  Closed  01/01/2016 07:59:29 AM      BRONX        Unspecified   \n",
              "\n",
              "  Park Borough Request_Closing_Time  \n",
              "0    MANHATTAN             00:55:30  \n",
              "1       QUEENS             01:27:13  \n",
              "2        BRONX             04:51:34  "
            ]
          },
          "execution_count": 42,
          "metadata": {},
          "output_type": "execute_result"
        }
      ],
      "source": [
        "dataset.head(3)"
      ]
    },
    {
      "cell_type": "code",
      "execution_count": null,
      "metadata": {
        "id": "3KAjt9_HLPV_",
        "outputId": "c6b9cab0-6694-49f8-e507-39b3a6e81f88"
      },
      "outputs": [
        {
          "data": {
            "text/plain": [
              "Complaint Type\n",
              "Agency Issues                     8\n",
              "Animal Abuse                  10541\n",
              "Animal in a Park                  1\n",
              "Bike/Roller/Skate Chronic         0\n",
              "Blocked Driveway             100881\n",
              "Derelict Vehicle              21661\n",
              "Disorderly Youth                315\n",
              "Drinking                       1409\n",
              "Ferry Complaint                   2\n",
              "Graffiti                        157\n",
              "Homeless Encampment               0\n",
              "Illegal Fireworks                 0\n",
              "Illegal Parking               92679\n",
              "Noise - Commercial            44109\n",
              "Noise - House of Worship       1070\n",
              "Noise - Park                   4109\n",
              "Noise - Street/Sidewalk       51692\n",
              "Noise - Vehicle               19352\n",
              "Panhandling                       0\n",
              "Posting Advertisement           681\n",
              "Squeegee                          0\n",
              "Traffic                        5198\n",
              "Urinating in Public               0\n",
              "Vending                        4192\n",
              "Name: Descriptor, dtype: int64"
            ]
          },
          "execution_count": 43,
          "metadata": {},
          "output_type": "execute_result"
        }
      ],
      "source": [
        "desc=dataset.groupby(by='Complaint Type')['Descriptor'].agg('count')\n",
        "desc"
      ]
    },
    {
      "cell_type": "code",
      "execution_count": null,
      "metadata": {
        "id": "6f8XqulILPWA",
        "outputId": "1faa3341-4b5f-4282-a2b8-585fc6523bdb"
      },
      "outputs": [
        {
          "data": {
            "text/plain": [
              "MANHATTAN    77308\n",
              "QUEENS           3\n",
              "BROOKLYN         1\n",
              "Name: Borough, dtype: int64"
            ]
          },
          "execution_count": 44,
          "metadata": {},
          "output_type": "execute_result"
        }
      ],
      "source": [
        "#City with their status\n",
        "dataset.loc[dataset['City']=='NEW YORK',]['Borough'].value_counts()"
      ]
    },
    {
      "cell_type": "code",
      "execution_count": null,
      "metadata": {
        "id": "DP2HAty9LPWA",
        "outputId": "a35b6e3d-168a-4d88-a3c6-1e6647c7dbec"
      },
      "outputs": [
        {
          "data": {
            "text/plain": [
              "<matplotlib.axes._subplots.AxesSubplot at 0x7f9ad6b46908>"
            ]
          },
          "execution_count": 45,
          "metadata": {},
          "output_type": "execute_result"
        },
        {
          "data": {
            "image/png": "[encoded data removed]",
            "text/plain": [
              "<Figure size 432x288 with 1 Axes>"
            ]
          },
          "metadata": {},
          "output_type": "display_data"
        }
      ],
      "source": [
        "#Newyork city has how many boroughs and whats their status \n",
        "sns.countplot(x=dataset.loc[dataset['City']=='NEW YORK',]['Borough'],hue='Status',data=dataset)"
      ]
    },
    {
      "cell_type": "code",
      "execution_count": null,
      "metadata": {
        "id": "xl7bS01VLPWB",
        "outputId": "03387638-1153-46a1-8b23-92a31b89fc33"
      },
      "outputs": [
        {
          "data": {
            "text/plain": [
              "Noise - Street/Sidewalk      22252\n",
              "Noise - Commercial           18692\n",
              "Illegal Parking              14553\n",
              "Noise - Vehicle               6295\n",
              "Homeless Encampment           3060\n",
              "Blocked Driveway              2707\n",
              "Vending                       2639\n",
              "Animal Abuse                  1941\n",
              "Traffic                       1770\n",
              "Noise - Park                  1244\n",
              "Derelict Vehicle               695\n",
              "Drinking                       321\n",
              "Urinating in Public            264\n",
              "Bike/Roller/Skate Chronic      254\n",
              "Noise - House of Worship       222\n",
              "Panhandling                    206\n",
              "Disorderly Youth                81\n",
              "Posting Advertisement           49\n",
              "Illegal Fireworks               38\n",
              "Graffiti                        25\n",
              "Squeegee                         4\n",
              "Name: Complaint Type, dtype: int64"
            ]
          },
          "execution_count": 46,
          "metadata": {},
          "output_type": "execute_result"
        }
      ],
      "source": [
        "#Newyork city has max complaints of which complaint type?\n",
        "dataset.loc[dataset['City']=='NEW YORK',:]['Complaint Type'].value_counts()"
      ]
    },
    {
      "cell_type": "code",
      "execution_count": null,
      "metadata": {
        "id": "XvzhA23GLPWB",
        "outputId": "090f5b5a-71bf-4b6f-f8f3-b10f1bda8152"
      },
      "outputs": [
        {
          "data": {
            "text/plain": [
              "[Text(0, 0, 'Noise - Street/Sidewalk'),\n",
              " Text(0, 0, 'Illegal Parking'),\n",
              " Text(0, 0, 'Noise - House of Worship'),\n",
              " Text(0, 0, 'Noise - Commercial'),\n",
              " Text(0, 0, 'Blocked Driveway'),\n",
              " Text(0, 0, 'Vending'),\n",
              " Text(0, 0, 'Noise - Vehicle'),\n",
              " Text(0, 0, 'Panhandling'),\n",
              " Text(0, 0, 'Animal Abuse'),\n",
              " Text(0, 0, 'Noise - Park'),\n",
              " Text(0, 0, 'Homeless Encampment'),\n",
              " Text(0, 0, 'Traffic'),\n",
              " Text(0, 0, 'Derelict Vehicle'),\n",
              " Text(0, 0, 'Drinking'),\n",
              " Text(0, 0, 'Urinating in Public'),\n",
              " Text(0, 0, 'Bike/Roller/Skate Chronic'),\n",
              " Text(0, 0, 'Graffiti'),\n",
              " Text(0, 0, 'Posting Advertisement'),\n",
              " Text(0, 0, 'Disorderly Youth'),\n",
              " Text(0, 0, 'Illegal Fireworks'),\n",
              " Text(0, 0, 'Squeegee')]"
            ]
          },
          "execution_count": 47,
          "metadata": {},
          "output_type": "execute_result"
        },
        {
          "data": {
            "image/png": "[encoded data removed]",
            "text/plain": [
              "<Figure size 432x288 with 1 Axes>"
            ]
          },
          "metadata": {},
          "output_type": "display_data"
        }
      ],
      "source": [
        "#Countplot to show Newyork city has max complaints of which complaint type?\n",
        "plot=sns.countplot(x=dataset.loc[dataset['City']=='NEW YORK',:]['Complaint Type'])\n",
        "plot.set_xticklabels(plot.get_xticklabels(),rotation = 90)"
      ]
    },
    {
      "cell_type": "code",
      "execution_count": null,
      "metadata": {
        "id": "HDODS820LPWC",
        "outputId": "07cd9209-f8ef-4fc4-b174-8f401374a198"
      },
      "outputs": [
        {
          "data": {
            "text/plain": [
              "Timedelta('0 days 02:55:17.417518')"
            ]
          },
          "execution_count": 48,
          "metadata": {},
          "output_type": "execute_result"
        }
      ],
      "source": [
        "#Avg time taken to solve a case in Newyork city\n",
        "dataset.loc[(dataset['City']=='NEW YORK')&(dataset['Status']=='Closed'),:]['Request_Closing_Time'].mean()"
      ]
    },
    {
      "cell_type": "code",
      "execution_count": null,
      "metadata": {
        "id": "1xl5HnTlLPWD",
        "outputId": "031a66e6-d227-417d-a660-03170954c905"
      },
      "outputs": [
        {
          "data": {
            "text/plain": [
              "Timedelta('0 days 04:32:14.424673')"
            ]
          },
          "execution_count": 49,
          "metadata": {},
          "output_type": "execute_result"
        }
      ],
      "source": [
        "dataset.loc[(dataset['City']=='NEW YORK')&(dataset['Status']=='Closed'),:]['Request_Closing_Time'].std()"
      ]
    },
    {
      "cell_type": "code",
      "execution_count": null,
      "metadata": {
        "id": "zNX4Yfn2LPWD",
        "outputId": "aac4774b-2863-407d-a94c-b4d0b2cfc142"
      },
      "outputs": [
        {
          "data": {
            "text/plain": [
              "BROOKLYN         118864\n",
              "QUEENS           100766\n",
              "MANHATTAN         77462\n",
              "BRONX             49169\n",
              "STATEN ISLAND     15339\n",
              "Unspecified        2958\n",
              "Name: Borough, dtype: int64"
            ]
          },
          "execution_count": 50,
          "metadata": {},
          "output_type": "execute_result"
        }
      ],
      "source": [
        "dataset['Borough'].value_counts()"
      ]
    },
    {
      "cell_type": "code",
      "execution_count": null,
      "metadata": {
        "id": "47-5qohsLPWE",
        "outputId": "fa022dad-ed02-4e02-dfdb-7037c6db56a0"
      },
      "outputs": [
        {
          "data": {
            "text/plain": [
              "Street/Sidewalk               301505\n",
              "Store/Commercial               25217\n",
              "Club/Bar/Restaurant            21527\n",
              "Residential Building/House      8869\n",
              "Park/Playground                 4871\n",
              "House of Worship                1068\n",
              "Residential Building             533\n",
              "Highway                          265\n",
              "House and Store                  245\n",
              "Parking Lot                      167\n",
              "Commercial                       108\n",
              "Vacant Lot                        95\n",
              "Roadway Tunnel                    43\n",
              "Subway Station                    40\n",
              "Bridge                             2\n",
              "Park                               1\n",
              "Terminal                           1\n",
              "Ferry                              1\n",
              "Name: Location Type, dtype: int64"
            ]
          },
          "execution_count": 51,
          "metadata": {},
          "output_type": "execute_result"
        }
      ],
      "source": [
        "dataset['Location Type'].value_counts()"
      ]
    },
    {
      "cell_type": "code",
      "execution_count": null,
      "metadata": {
        "scrolled": true,
        "id": "Co3wMXwqLPWE",
        "outputId": "f2b63c92-99ec-425b-a524-f20bc7d45e10"
      },
      "outputs": [
        {
          "data": {
            "text/plain": [
              "<matplotlib.axes._subplots.AxesSubplot at 0x7f9ad6b46d30>"
            ]
          },
          "execution_count": 52,
          "metadata": {},
          "output_type": "execute_result"
        },
        {
          "data": {
            "image/png": "[encoded data removed]",
            "text/plain": [
              "<Figure size 432x288 with 1 Axes>"
            ]
          },
          "metadata": {},
          "output_type": "display_data"
        }
      ],
      "source": [
        "#Top Location type and their countplot with hues='Borough'\n",
        "sns.countplot(dataset.loc[dataset['Location Type'].isin(['Street/Sidewalk','Store/Commercial','Club/Bar/Restaurant'])]\n",
        "              ['Location Type'],data=dataset,hue='Borough')\n"
      ]
    },
    {
      "cell_type": "code",
      "execution_count": null,
      "metadata": {
        "id": "RzLZDZ7sLPWF",
        "outputId": "ba22d354-3e27-44c3-aa23-4e9eb0f00441"
      },
      "outputs": [
        {
          "data": {
            "text/html": [
              "<div>\n",
              "<style scoped>\n",
              "    .dataframe tbody tr th:only-of-type {\n",
              "        vertical-align: middle;\n",
              "    }\n",
              "\n",
              "    .dataframe tbody tr th {\n",
              "        vertical-align: top;\n",
              "    }\n",
              "\n",
              "    .dataframe thead th {\n",
              "        text-align: right;\n",
              "    }\n",
              "</style>\n",
              "<table border=\"1\" class=\"dataframe\">\n",
              "  <thead>\n",
              "    <tr style=\"text-align: right;\">\n",
              "      <th></th>\n",
              "      <th>Agency</th>\n",
              "      <th>Agency Name</th>\n",
              "      <th>Complaint Type</th>\n",
              "      <th>Descriptor</th>\n",
              "      <th>Location Type</th>\n",
              "      <th>Incident Zip</th>\n",
              "      <th>Address Type</th>\n",
              "      <th>City</th>\n",
              "      <th>Facility Type</th>\n",
              "      <th>Status</th>\n",
              "      <th>Due Date</th>\n",
              "      <th>Borough</th>\n",
              "      <th>Park Facility Name</th>\n",
              "      <th>Park Borough</th>\n",
              "      <th>Request_Closing_Time</th>\n",
              "      <th>year</th>\n",
              "    </tr>\n",
              "  </thead>\n",
              "  <tbody>\n",
              "    <tr>\n",
              "      <th>0</th>\n",
              "      <td>NYPD</td>\n",
              "      <td>New York City Police Department</td>\n",
              "      <td>Noise - Street/Sidewalk</td>\n",
              "      <td>Loud Music/Party</td>\n",
              "      <td>Street/Sidewalk</td>\n",
              "      <td>10034.0</td>\n",
              "      <td>ADDRESS</td>\n",
              "      <td>NEW YORK</td>\n",
              "      <td>Precinct</td>\n",
              "      <td>Closed</td>\n",
              "      <td>01/01/2016 07:59:45 AM</td>\n",
              "      <td>MANHATTAN</td>\n",
              "      <td>Unspecified</td>\n",
              "      <td>MANHATTAN</td>\n",
              "      <td>00:55:30</td>\n",
              "      <td>2016.0</td>\n",
              "    </tr>\n",
              "    <tr>\n",
              "      <th>1</th>\n",
              "      <td>NYPD</td>\n",
              "      <td>New York City Police Department</td>\n",
              "      <td>Blocked Driveway</td>\n",
              "      <td>No Access</td>\n",
              "      <td>Street/Sidewalk</td>\n",
              "      <td>11105.0</td>\n",
              "      <td>ADDRESS</td>\n",
              "      <td>ASTORIA</td>\n",
              "      <td>Precinct</td>\n",
              "      <td>Closed</td>\n",
              "      <td>01/01/2016 07:59:44 AM</td>\n",
              "      <td>QUEENS</td>\n",
              "      <td>Unspecified</td>\n",
              "      <td>QUEENS</td>\n",
              "      <td>01:27:13</td>\n",
              "      <td>2016.0</td>\n",
              "    </tr>\n",
              "    <tr>\n",
              "      <th>2</th>\n",
              "      <td>NYPD</td>\n",
              "      <td>New York City Police Department</td>\n",
              "      <td>Blocked Driveway</td>\n",
              "      <td>No Access</td>\n",
              "      <td>Street/Sidewalk</td>\n",
              "      <td>10458.0</td>\n",
              "      <td>ADDRESS</td>\n",
              "      <td>BRONX</td>\n",
              "      <td>Precinct</td>\n",
              "      <td>Closed</td>\n",
              "      <td>01/01/2016 07:59:29 AM</td>\n",
              "      <td>BRONX</td>\n",
              "      <td>Unspecified</td>\n",
              "      <td>BRONX</td>\n",
              "      <td>04:51:34</td>\n",
              "      <td>2016.0</td>\n",
              "    </tr>\n",
              "    <tr>\n",
              "      <th>3</th>\n",
              "      <td>NYPD</td>\n",
              "      <td>New York City Police Department</td>\n",
              "      <td>Illegal Parking</td>\n",
              "      <td>Commercial Overnight Parking</td>\n",
              "      <td>Street/Sidewalk</td>\n",
              "      <td>10461.0</td>\n",
              "      <td>ADDRESS</td>\n",
              "      <td>BRONX</td>\n",
              "      <td>Precinct</td>\n",
              "      <td>Closed</td>\n",
              "      <td>01/01/2016 07:57:46 AM</td>\n",
              "      <td>BRONX</td>\n",
              "      <td>Unspecified</td>\n",
              "      <td>BRONX</td>\n",
              "      <td>07:45:27</td>\n",
              "      <td>2016.0</td>\n",
              "    </tr>\n",
              "    <tr>\n",
              "      <th>4</th>\n",
              "      <td>NYPD</td>\n",
              "      <td>New York City Police Department</td>\n",
              "      <td>Illegal Parking</td>\n",
              "      <td>Blocked Sidewalk</td>\n",
              "      <td>Street/Sidewalk</td>\n",
              "      <td>11373.0</td>\n",
              "      <td>ADDRESS</td>\n",
              "      <td>ELMHURST</td>\n",
              "      <td>Precinct</td>\n",
              "      <td>Closed</td>\n",
              "      <td>01/01/2016 07:56:58 AM</td>\n",
              "      <td>QUEENS</td>\n",
              "      <td>Unspecified</td>\n",
              "      <td>QUEENS</td>\n",
              "      <td>03:27:44</td>\n",
              "      <td>2016.0</td>\n",
              "    </tr>\n",
              "  </tbody>\n",
              "</table>\n",
              "</div>"
            ],
            "text/plain": [
              "  Agency                      Agency Name           Complaint Type  \\\n",
              "0   NYPD  New York City Police Department  Noise - Street/Sidewalk   \n",
              "1   NYPD  New York City Police Department         Blocked Driveway   \n",
              "2   NYPD  New York City Police Department         Blocked Driveway   \n",
              "3   NYPD  New York City Police Department          Illegal Parking   \n",
              "4   NYPD  New York City Police Department          Illegal Parking   \n",
              "\n",
              "                     Descriptor    Location Type  Incident Zip Address Type  \\\n",
              "0              Loud Music/Party  Street/Sidewalk       10034.0      ADDRESS   \n",
              "1                     No Access  Street/Sidewalk       11105.0      ADDRESS   \n",
              "2                     No Access  Street/Sidewalk       10458.0      ADDRESS   \n",
              "3  Commercial Overnight Parking  Street/Sidewalk       10461.0      ADDRESS   \n",
              "4              Blocked Sidewalk  Street/Sidewalk       11373.0      ADDRESS   \n",
              "\n",
              "       City Facility Type  Status                Due Date    Borough  \\\n",
              "0  NEW YORK      Precinct  Closed  01/01/2016 07:59:45 AM  MANHATTAN   \n",
              "1   ASTORIA      Precinct  Closed  01/01/2016 07:59:44 AM     QUEENS   \n",
              "2     BRONX      Precinct  Closed  01/01/2016 07:59:29 AM      BRONX   \n",
              "3     BRONX      Precinct  Closed  01/01/2016 07:57:46 AM      BRONX   \n",
              "4  ELMHURST      Precinct  Closed  01/01/2016 07:56:58 AM     QUEENS   \n",
              "\n",
              "  Park Facility Name Park Borough Request_Closing_Time    year  \n",
              "0        Unspecified    MANHATTAN             00:55:30  2016.0  \n",
              "1        Unspecified       QUEENS             01:27:13  2016.0  \n",
              "2        Unspecified        BRONX             04:51:34  2016.0  \n",
              "3        Unspecified        BRONX             07:45:27  2016.0  \n",
              "4        Unspecified       QUEENS             03:27:44  2016.0  "
            ]
          },
          "execution_count": 53,
          "metadata": {},
          "output_type": "execute_result"
        }
      ],
      "source": [
        "import datetime\n",
        "dataset['year'] = pd.DatetimeIndex(dataset['Due Date']).year\n",
        "dataset.head()"
      ]
    },
    {
      "cell_type": "code",
      "execution_count": null,
      "metadata": {
        "id": "RiWblq_6LPWG",
        "outputId": "fe476e8f-5336-4bba-da3c-db8d72be14dc"
      },
      "outputs": [
        {
          "data": {
            "text/plain": [
              "<matplotlib.axes._subplots.AxesSubplot at 0x7f9ad5f6add8>"
            ]
          },
          "execution_count": 54,
          "metadata": {},
          "output_type": "execute_result"
        },
        {
          "data": {
            "image/png": "[encoded data removed]",
            "text/plain": [
              "<Figure size 432x288 with 1 Axes>"
            ]
          },
          "metadata": {},
          "output_type": "display_data"
        }
      ],
      "source": [
        "sns.countplot(dataset['year'],hue='Borough',data=dataset)"
      ]
    },
    {
      "cell_type": "code",
      "execution_count": null,
      "metadata": {
        "id": "_nwERddRLPWG",
        "outputId": "0ede709a-caa7-46d8-991a-ba2f98448c75"
      },
      "outputs": [
        {
          "data": {
            "text/plain": [
              "Street/Sidewalk               301505\n",
              "Store/Commercial               25217\n",
              "Club/Bar/Restaurant            21527\n",
              "Residential Building/House      8869\n",
              "Park/Playground                 4871\n",
              "House of Worship                1068\n",
              "Residential Building             533\n",
              "Highway                          265\n",
              "House and Store                  245\n",
              "Parking Lot                      167\n",
              "Commercial                       108\n",
              "Vacant Lot                        95\n",
              "Roadway Tunnel                    43\n",
              "Subway Station                    40\n",
              "Bridge                             2\n",
              "Park                               1\n",
              "Terminal                           1\n",
              "Ferry                              1\n",
              "Name: Location Type, dtype: int64"
            ]
          },
          "execution_count": 55,
          "metadata": {},
          "output_type": "execute_result"
        }
      ],
      "source": [
        "dataset['Location Type'].value_counts()"
      ]
    },
    {
      "cell_type": "code",
      "execution_count": null,
      "metadata": {
        "id": "G7lHro_hLPWH",
        "outputId": "0bad226d-22c6-487d-ef93-1468d77d9821"
      },
      "outputs": [
        {
          "data": {
            "text/html": [
              "<div>\n",
              "<style scoped>\n",
              "    .dataframe tbody tr th:only-of-type {\n",
              "        vertical-align: middle;\n",
              "    }\n",
              "\n",
              "    .dataframe tbody tr th {\n",
              "        vertical-align: top;\n",
              "    }\n",
              "\n",
              "    .dataframe thead th {\n",
              "        text-align: right;\n",
              "    }\n",
              "</style>\n",
              "<table border=\"1\" class=\"dataframe\">\n",
              "  <thead>\n",
              "    <tr style=\"text-align: right;\">\n",
              "      <th></th>\n",
              "      <th>Complaint Type</th>\n",
              "      <th>City</th>\n",
              "    </tr>\n",
              "  </thead>\n",
              "  <tbody>\n",
              "    <tr>\n",
              "      <th>0</th>\n",
              "      <td>Noise - Street/Sidewalk</td>\n",
              "      <td>NEW YORK</td>\n",
              "    </tr>\n",
              "    <tr>\n",
              "      <th>1</th>\n",
              "      <td>Blocked Driveway</td>\n",
              "      <td>ASTORIA</td>\n",
              "    </tr>\n",
              "    <tr>\n",
              "      <th>2</th>\n",
              "      <td>Blocked Driveway</td>\n",
              "      <td>BRONX</td>\n",
              "    </tr>\n",
              "    <tr>\n",
              "      <th>3</th>\n",
              "      <td>Illegal Parking</td>\n",
              "      <td>BRONX</td>\n",
              "    </tr>\n",
              "    <tr>\n",
              "      <th>4</th>\n",
              "      <td>Illegal Parking</td>\n",
              "      <td>ELMHURST</td>\n",
              "    </tr>\n",
              "  </tbody>\n",
              "</table>\n",
              "</div>"
            ],
            "text/plain": [
              "            Complaint Type      City\n",
              "0  Noise - Street/Sidewalk  NEW YORK\n",
              "1         Blocked Driveway   ASTORIA\n",
              "2         Blocked Driveway     BRONX\n",
              "3          Illegal Parking     BRONX\n",
              "4          Illegal Parking  ELMHURST"
            ]
          },
          "execution_count": 56,
          "metadata": {},
          "output_type": "execute_result"
        }
      ],
      "source": [
        "#Display the complaint type and city together\n",
        "dataset[['Complaint Type','City']].head()"
      ]
    },
    {
      "cell_type": "code",
      "execution_count": null,
      "metadata": {
        "id": "SCSZ4NMyLPWH",
        "outputId": "a86ee18c-1fc5-4e01-8048-fff6bf69e271"
      },
      "outputs": [
        {
          "data": {
            "text/plain": [
              "Blocked Driveway           100881\n",
              "Illegal Parking             92679\n",
              "Noise - Street/Sidewalk     51692\n",
              "Noise - Commercial          44109\n",
              "Derelict Vehicle            21661\n",
              "Noise - Vehicle             19352\n",
              "Animal Abuse                10541\n",
              "Traffic                      5198\n",
              "Homeless Encampment          4879\n",
              "Vending                      4192\n",
              "Name: Complaint Type, dtype: int64"
            ]
          },
          "execution_count": 57,
          "metadata": {},
          "output_type": "execute_result"
        }
      ],
      "source": [
        "#Find the top 10 complaint types \n",
        "dataset['Complaint Type'].value_counts()[0:10,]"
      ]
    },
    {
      "cell_type": "code",
      "execution_count": null,
      "metadata": {
        "id": "fBsL1ordLPWI",
        "outputId": "1b4d183e-b9f3-40bb-e295-3903030da140"
      },
      "outputs": [
        {
          "data": {
            "text/plain": [
              "[Text(0, 0, 'Noise - Street/Sidewalk'),\n",
              " Text(0, 0, 'Blocked Driveway'),\n",
              " Text(0, 0, 'Illegal Parking'),\n",
              " Text(0, 0, 'Derelict Vehicle'),\n",
              " Text(0, 0, 'Noise - Commercial'),\n",
              " Text(0, 0, 'Noise - House of Worship'),\n",
              " Text(0, 0, 'Posting Advertisement'),\n",
              " Text(0, 0, 'Noise - Vehicle'),\n",
              " Text(0, 0, 'Animal Abuse'),\n",
              " Text(0, 0, 'Vending'),\n",
              " Text(0, 0, 'Traffic'),\n",
              " Text(0, 0, 'Drinking'),\n",
              " Text(0, 0, 'Bike/Roller/Skate Chronic'),\n",
              " Text(0, 0, 'Panhandling'),\n",
              " Text(0, 0, 'Noise - Park'),\n",
              " Text(0, 0, 'Homeless Encampment'),\n",
              " Text(0, 0, 'Urinating in Public'),\n",
              " Text(0, 0, 'Graffiti'),\n",
              " Text(0, 0, 'Disorderly Youth'),\n",
              " Text(0, 0, 'Illegal Fireworks'),\n",
              " Text(0, 0, 'Ferry Complaint'),\n",
              " Text(0, 0, 'Agency Issues'),\n",
              " Text(0, 0, 'Squeegee'),\n",
              " Text(0, 0, 'Animal in a Park')]"
            ]
          },
          "execution_count": 58,
          "metadata": {},
          "output_type": "execute_result"
        },
        {
          "data": {
            "image/png": "[encoded data removed]",
            "text/plain": [
              "<Figure size 432x288 with 1 Axes>"
            ]
          },
          "metadata": {},
          "output_type": "display_data"
        }
      ],
      "source": [
        "#Plot a bar graph of count vs. complaint types\n",
        "plot3=sns.countplot(dataset['Complaint Type'])\n",
        "plot3.set_xticklabels(plot3.get_xticklabels(),rotation =90)"
      ]
    },
    {
      "cell_type": "code",
      "execution_count": null,
      "metadata": {
        "id": "cTNHMfAWLPWI",
        "outputId": "f5122f64-61d7-471c-f4cd-7f122e5680c4"
      },
      "outputs": [
        {
          "data": {
            "text/plain": [
              "Index(['Blocked Driveway', 'Illegal Parking', 'Noise - Street/Sidewalk',\n",
              "       'Noise - Commercial', 'Derelict Vehicle'],\n",
              "      dtype='object')"
            ]
          },
          "execution_count": 59,
          "metadata": {},
          "output_type": "execute_result"
        }
      ],
      "source": [
        "#Display the major complaint types and their count\n",
        "#top 5 complaint types\n",
        "series=dataset['Complaint Type'].value_counts()[0:5,]\n",
        "series.nlargest().index"
      ]
    },
    {
      "cell_type": "code",
      "execution_count": null,
      "metadata": {
        "id": "tO494AglLPWJ",
        "outputId": "12769f67-3f31-48b8-e599-f315cdbf877a"
      },
      "outputs": [
        {
          "data": {
            "text/plain": [
              "[Text(0, 0, 'Noise - Street/Sidewalk'),\n",
              " Text(0, 0, 'Blocked Driveway'),\n",
              " Text(0, 0, 'Illegal Parking'),\n",
              " Text(0, 0, 'Derelict Vehicle'),\n",
              " Text(0, 0, 'Noise - Commercial')]"
            ]
          },
          "execution_count": 60,
          "metadata": {},
          "output_type": "execute_result"
        },
        {
          "data": {
            "image/png": "[encoded data removed]",
            "text/plain": [
              "<Figure size 432x288 with 1 Axes>"
            ]
          },
          "metadata": {},
          "output_type": "display_data"
        }
      ],
      "source": [
        "#graph\n",
        "plot4=sns.barplot(x=series.nlargest().index,y=series.nlargest().values)\n",
        "plot4.set_xticklabels(plot3.get_xticklabels(),rotation =90)"
      ]
    }
  ],
  "metadata": {
    "kernelspec": {
      "display_name": "Python 3",
      "language": "python",
      "name": "python3"
    },
    "language_info": {
      "codemirror_mode": {
        "name": "ipython",
        "version": 3
      },
      "file_extension": ".py",
      "mimetype": "text/x-python",
      "name": "python",
      "nbconvert_exporter": "python",
      "pygments_lexer": "ipython3",
      "version": "3.6.4"
    },
    "colab": {
      "provenance": [],
      "include_colab_link": true
    }
  },
  "nbformat": 4,
  "nbformat_minor": 0
}